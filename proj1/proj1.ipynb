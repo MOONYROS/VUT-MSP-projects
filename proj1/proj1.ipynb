{
 "cells": [
  {
   "cell_type": "markdown",
   "metadata": {},
   "source": [
    "# Projekt MSP1 / 2024\n",
    "Cílem tohoto projektu je se seznámit s programovými nástroji využívaných ve statistice a osvojit si základní procedury. Projekt není primárně zaměřen na efektivitu využívání programového vybavení (i když úplně nevhodné konstrukce mohou mít vliv na hodnocení), ale nejvíce nás zajímají vaše statistické závěry a způsob vyhodnocení. Dbejte také na to, že každý graf musí splňovat nějaké podmínky - přehlednost, čitelnost, popisky.\n",
    "\n",
    "V projektu budete analyzovat časy běhu šesti různých konfigurací algoritmů. Ke každé konfiguraci vzniklo celkem 200 nezávislých běhů, jejichž logy máte k dispozici v souboru [logfiles.zip](logfiles.zip).\n",
    "\n",
    "Pokud nemáte rozchozené prostředí pro pro spouštění Jupyter notebooku, můžete využití službu [Google Colab](https://colab.google/). Jakákoliv spolupráce, sdílení řešení a podobně je zakázána!\n",
    "\n",
    "S případnými dotazy se obracejte na Vojtěcha Mrázka (mrazek@fit.vutbr.cz).\n",
    "\n",
    "__Odevzdání:__ tento soubor (není potřeba aby obsahoval výstupy skriptů) do neděle 27. 10. 2024 v IS VUT. Kontrola bude probíhat na Pythonu 3.12.3 (standardní instalace Ubuntu); neočekává se však to, že byste používali nějaké speciality a nekompatibilní knihovny. V případě nesouladu verzí a podobných problémů budete mít možnost reklamace a prokázání správnosti funkce. Bez vyplnění vašich komentářů a závěrů do označených buněk nebude projekt hodnocen!\n",
    "\n",
    "__Upozornění:__ nepřidávejte do notebooku další buňky, odpovídejte tam, kam se ptáme (textové komentáře do Markdown buněk)\n",
    "\n",
    "__Tip:__ před odevzdáním resetujte celý notebook a zkuste jej spustit od začátku. Zamezíte tak chybám krokování a editací, kdy výsledek z buňky na konci použijete na začátku."
   ]
  },
  {
   "cell_type": "markdown",
   "metadata": {},
   "source": [
    "__OTÁZKA K DOPLNĚNÍ:__\n",
    "\n",
    "_Ondřej Lukášek, xlukas15_"
   ]
  },
  {
   "cell_type": "markdown",
   "metadata": {},
   "source": [
    "## Načtení potřebných knihoven\n",
    "Načtěte knihovny, které jsou nutné pro zpracování souborů a práci se statistickými funkcemi."
   ]
  },
  {
   "cell_type": "code",
   "execution_count": 6,
   "metadata": {},
   "outputs": [],
   "source": [
    "import numpy as np\n",
    "import pandas as pd\n",
    "import matplotlib.pyplot as plt\n",
    "import scipy.stats as stats\n",
    "import seaborn as sns\n",
    "import json\n",
    "from zipfile import ZipFile"
   ]
  },
  {
   "cell_type": "markdown",
   "metadata": {},
   "source": [
    "## Načtení dat do DataFrame\n",
    "Ze souboru `logfiles.zip` umístěném ve stejném adresáři načtěte data a vytvořte Pandas DataFrame.\n",
    "\n",
    "Výsledky jsou uložené ve formátu JSON - pro zpracování použijte knihovnu `json`.\n",
    "Můžete využít následující kostru - je vhodné pracovat přímo se ZIP souborem. Jedinou nevýhodou může být to, že vám bude vracet _byte_ objekt, který musíte přes funkci `decode` zpracovat.\n",
    "\n",
    "Upravte také pomocí funkce `.astype()` datové typy patřičných sloupců.\n",
    "\n",
    "```py\n",
    "data = []\n",
    "with ZipFile(\"logfiles.zip\") as zf:\n",
    "    for filename in zf.namelist():\n",
    "        # TODO test názvu souboru\n",
    "        with zf.open(filename, \"r\") as f:\n",
    "            pass # vytvořte slovník\n",
    "\n",
    "df = pd.DataFrame(data)\n",
    "df\n",
    "```"
   ]
  },
  {
   "cell_type": "code",
   "execution_count": 7,
   "metadata": {},
   "outputs": [
    {
     "data": {
      "text/html": [
       "<div>\n",
       "<style scoped>\n",
       "    .dataframe tbody tr th:only-of-type {\n",
       "        vertical-align: middle;\n",
       "    }\n",
       "\n",
       "    .dataframe tbody tr th {\n",
       "        vertical-align: top;\n",
       "    }\n",
       "\n",
       "    .dataframe thead th {\n",
       "        text-align: right;\n",
       "    }\n",
       "</style>\n",
       "<table border=\"1\" class=\"dataframe\">\n",
       "  <thead>\n",
       "    <tr style=\"text-align: right;\">\n",
       "      <th></th>\n",
       "      <th>configuration</th>\n",
       "      <th>run</th>\n",
       "      <th>runtime</th>\n",
       "      <th>status</th>\n",
       "    </tr>\n",
       "  </thead>\n",
       "  <tbody>\n",
       "    <tr>\n",
       "      <th>0</th>\n",
       "      <td>config6</td>\n",
       "      <td>149</td>\n",
       "      <td>53.733556</td>\n",
       "      <td>SUCCESS</td>\n",
       "    </tr>\n",
       "    <tr>\n",
       "      <th>1</th>\n",
       "      <td>config2</td>\n",
       "      <td>16</td>\n",
       "      <td>134.543496</td>\n",
       "      <td>SUCCESS</td>\n",
       "    </tr>\n",
       "    <tr>\n",
       "      <th>2</th>\n",
       "      <td>config6</td>\n",
       "      <td>180</td>\n",
       "      <td>117.108040</td>\n",
       "      <td>SUCCESS</td>\n",
       "    </tr>\n",
       "    <tr>\n",
       "      <th>3</th>\n",
       "      <td>config4</td>\n",
       "      <td>12</td>\n",
       "      <td>223.763044</td>\n",
       "      <td>SUCCESS</td>\n",
       "    </tr>\n",
       "    <tr>\n",
       "      <th>4</th>\n",
       "      <td>config5</td>\n",
       "      <td>193</td>\n",
       "      <td>159.540473</td>\n",
       "      <td>SUCCESS</td>\n",
       "    </tr>\n",
       "    <tr>\n",
       "      <th>...</th>\n",
       "      <td>...</td>\n",
       "      <td>...</td>\n",
       "      <td>...</td>\n",
       "      <td>...</td>\n",
       "    </tr>\n",
       "    <tr>\n",
       "      <th>1195</th>\n",
       "      <td>config5</td>\n",
       "      <td>95</td>\n",
       "      <td>199.461297</td>\n",
       "      <td>SUCCESS</td>\n",
       "    </tr>\n",
       "    <tr>\n",
       "      <th>1196</th>\n",
       "      <td>config5</td>\n",
       "      <td>99</td>\n",
       "      <td>155.491930</td>\n",
       "      <td>SUCCESS</td>\n",
       "    </tr>\n",
       "    <tr>\n",
       "      <th>1197</th>\n",
       "      <td>config2</td>\n",
       "      <td>83</td>\n",
       "      <td>125.243690</td>\n",
       "      <td>SUCCESS</td>\n",
       "    </tr>\n",
       "    <tr>\n",
       "      <th>1198</th>\n",
       "      <td>config5</td>\n",
       "      <td>153</td>\n",
       "      <td>223.312938</td>\n",
       "      <td>SUCCESS</td>\n",
       "    </tr>\n",
       "    <tr>\n",
       "      <th>1199</th>\n",
       "      <td>config1</td>\n",
       "      <td>137</td>\n",
       "      <td>96.779385</td>\n",
       "      <td>SUCCESS</td>\n",
       "    </tr>\n",
       "  </tbody>\n",
       "</table>\n",
       "<p>1200 rows × 4 columns</p>\n",
       "</div>"
      ],
      "text/plain": [
       "     configuration  run     runtime   status\n",
       "0          config6  149   53.733556  SUCCESS\n",
       "1          config2   16  134.543496  SUCCESS\n",
       "2          config6  180  117.108040  SUCCESS\n",
       "3          config4   12  223.763044  SUCCESS\n",
       "4          config5  193  159.540473  SUCCESS\n",
       "...            ...  ...         ...      ...\n",
       "1195       config5   95  199.461297  SUCCESS\n",
       "1196       config5   99  155.491930  SUCCESS\n",
       "1197       config2   83  125.243690  SUCCESS\n",
       "1198       config5  153  223.312938  SUCCESS\n",
       "1199       config1  137   96.779385  SUCCESS\n",
       "\n",
       "[1200 rows x 4 columns]"
      ]
     },
     "execution_count": 7,
     "metadata": {},
     "output_type": "execute_result"
    }
   ],
   "source": [
    "data = []\n",
    "with ZipFile(\"logfiles.zip\") as zf:\n",
    "    for filename in zf.namelist():\n",
    "        # test názvu souboru - kontrola .json\n",
    "        if filename.endswith(\".json\"):    \n",
    "            with zf.open(filename, \"r\") as f:\n",
    "                content = f.read().decode(\"utf-8\")\n",
    "                json_content = json.loads(content)\n",
    "                data.append(json_content)\n",
    "\n",
    "df = pd.DataFrame(data)\n",
    "\n",
    "# pretypovani sloupcu - pouze kategorie, ostatni v poradku\n",
    "df[\"configuration\"] = df[\"configuration\"].astype(\"category\")\n",
    "df[\"status\"] = df[\"status\"].astype(\"category\")\n",
    "df\n"
   ]
  },
  {
   "cell_type": "markdown",
   "metadata": {},
   "source": [
    "## Analýza a čištění dat\n",
    "Vhodným způsobem pro všechny konfigurace analyzujte časy běhů a pokud tam jsou, identifikujte hodnoty, které jsou chybné. Vyberte vhodný graf, který zobrazí samostatně jednotlivé konfigurace."
   ]
  },
  {
   "cell_type": "code",
   "execution_count": 8,
   "metadata": {},
   "outputs": [
    {
     "data": {
      "image/png": "[encoded data removed]",
      "text/plain": [
       "<Figure size 1000x600 with 1 Axes>"
      ]
     },
     "metadata": {},
     "output_type": "display_data"
    }
   ],
   "source": [
    "plt.figure(figsize = (10, 6))\n",
    "sns.boxplot(x = \"configuration\", y = \"runtime\", data = df)\n",
    "plt.title(\"Distribuce runtime podle konfiguraci\")\n",
    "plt.xticks(rotation = 45)\n",
    "plt.show()"
   ]
  },
  {
   "cell_type": "markdown",
   "metadata": {},
   "source": [
    "__OTÁZKA K DOPLNĚNÍ:__\n",
    "\n",
    "_Objevily se nějaké chybné hodnoty? Proč tam jsou s ohledem na to, že se jedná o běhy algoritmů? Proč jste zvolili tento typ grafu?_\n",
    "\n",
    "Ano, objevily. Chybné hodnoty se objevují ve sloupci `status`, kde hodnota nabývá `SEGFAULT` (hodnota u runtime je 0.0) nebo `TIME LIMIT` (runtime se rovná 1200.0). Tyto hodnoty se lze vyfiltrovat tím, že použiji pouze runtime hodnoty, které mají ve sloupci `status` hodnotu `SUCCESS`.\n",
    "\n",
    "Tyto hodnoty se objevují zřejmě z důvodu, že běhy daného programu byly automaticky zapisované a pouze u nich byl zaznamenáván stav, v jakém program (respektive algoritmus) skončil.\n",
    "\n",
    "Vybral jsem si boxplot, protože nejlépe ukazuje různé hodnoty, kdy box ukazuje, jaké hodnoty nabývá největší množství hodnot.\n",
    "Uprostřed něj se nachází čára, ta ukazuje medián.\n",
    "Čáry, vedoucí z boxu jsou potom odchylky od běžných hodnot - tedy hodnot nacházejících se mimo box\n",
    "Jako poslední jsou ukázány outliers, což jsou hodnoty, které se významněji odchylují od všech ostatních hodnot. To může indikovat chybu.\n",
    "\n",
    "Na grafu níže byly vykresleny již vyčištěné hodnoty a lze si jednoznačně všimnout, že gra vypadá znatelně lépe a smysluplněji. Například již nemají outliers pro všechny konfigurace stejnou hodnotu. Díky menšímu počtu hodně odlehlých hodnot se lze také v grafu lépe orientovat."
   ]
  },
  {
   "cell_type": "markdown",
   "metadata": {},
   "source": [
    "Vyčistěte dataframe `df` tak, aby tam tyto hodnoty nebyly a ukažte znovu analýzu toho, že čištění dat bylo úspěšné. Odtud dále pracujte s vyčištěným datasetem."
   ]
  },
  {
   "cell_type": "code",
   "execution_count": 9,
   "metadata": {},
   "outputs": [
    {
     "data": {
      "image/png": "[encoded data removed]",
      "text/plain": [
       "<Figure size 1000x600 with 1 Axes>"
      ]
     },
     "metadata": {},
     "output_type": "display_data"
    }
   ],
   "source": [
    "# jedina platna hodnota je SUCCESS, ostatni jsou chyby (SEGFAULT, TIME LIMIT)\n",
    "df = df[df[\"status\"] == \"SUCCESS\"]\n",
    "\n",
    "plt.figure(figsize = (10, 6))\n",
    "sns.boxplot(x = \"configuration\", y = \"runtime\", data = df)\n",
    "plt.title(\"Distribuce runtime podle konfiguraci\")\n",
    "plt.xticks(rotation = 45)\n",
    "plt.show()"
   ]
  },
  {
   "cell_type": "markdown",
   "metadata": {},
   "source": [
    "## Deskriptivní popis hodnot\n",
    "Vypište pro jednotlivé konfigurace základní deskriptivní parametry.  \n",
    "\n",
    "__TIP__ pokud výsledky uložíte jako Pandas DataFrame, zobrazí se v tabulce."
   ]
  },
  {
   "cell_type": "code",
   "execution_count": 12,
   "metadata": {},
   "outputs": [
    {
     "data": {
      "text/html": [
       "<div>\n",
       "<style scoped>\n",
       "    .dataframe tbody tr th:only-of-type {\n",
       "        vertical-align: middle;\n",
       "    }\n",
       "\n",
       "    .dataframe tbody tr th {\n",
       "        vertical-align: top;\n",
       "    }\n",
       "\n",
       "    .dataframe thead th {\n",
       "        text-align: right;\n",
       "    }\n",
       "</style>\n",
       "<table border=\"1\" class=\"dataframe\">\n",
       "  <thead>\n",
       "    <tr style=\"text-align: right;\">\n",
       "      <th></th>\n",
       "      <th>count</th>\n",
       "      <th>mean</th>\n",
       "      <th>std</th>\n",
       "      <th>min</th>\n",
       "      <th>25%</th>\n",
       "      <th>50%</th>\n",
       "      <th>75%</th>\n",
       "      <th>max</th>\n",
       "    </tr>\n",
       "    <tr>\n",
       "      <th>configuration</th>\n",
       "      <th></th>\n",
       "      <th></th>\n",
       "      <th></th>\n",
       "      <th></th>\n",
       "      <th></th>\n",
       "      <th></th>\n",
       "      <th></th>\n",
       "      <th></th>\n",
       "    </tr>\n",
       "  </thead>\n",
       "  <tbody>\n",
       "    <tr>\n",
       "      <th>config1</th>\n",
       "      <td>193.0</td>\n",
       "      <td>99.590413</td>\n",
       "      <td>9.386788</td>\n",
       "      <td>73.802549</td>\n",
       "      <td>92.979469</td>\n",
       "      <td>99.865028</td>\n",
       "      <td>104.824724</td>\n",
       "      <td>127.201692</td>\n",
       "    </tr>\n",
       "    <tr>\n",
       "      <th>config2</th>\n",
       "      <td>197.0</td>\n",
       "      <td>151.732975</td>\n",
       "      <td>19.833198</td>\n",
       "      <td>85.174653</td>\n",
       "      <td>137.995662</td>\n",
       "      <td>151.516091</td>\n",
       "      <td>163.802880</td>\n",
       "      <td>227.054630</td>\n",
       "    </tr>\n",
       "    <tr>\n",
       "      <th>config3</th>\n",
       "      <td>195.0</td>\n",
       "      <td>138.616959</td>\n",
       "      <td>19.867428</td>\n",
       "      <td>90.567110</td>\n",
       "      <td>124.803901</td>\n",
       "      <td>138.678404</td>\n",
       "      <td>151.536291</td>\n",
       "      <td>201.577616</td>\n",
       "    </tr>\n",
       "    <tr>\n",
       "      <th>config4</th>\n",
       "      <td>196.0</td>\n",
       "      <td>127.606156</td>\n",
       "      <td>50.282164</td>\n",
       "      <td>4.970286</td>\n",
       "      <td>94.793688</td>\n",
       "      <td>129.975246</td>\n",
       "      <td>164.327163</td>\n",
       "      <td>241.987620</td>\n",
       "    </tr>\n",
       "    <tr>\n",
       "      <th>config5</th>\n",
       "      <td>197.0</td>\n",
       "      <td>183.659767</td>\n",
       "      <td>28.729836</td>\n",
       "      <td>107.283620</td>\n",
       "      <td>164.070091</td>\n",
       "      <td>183.843132</td>\n",
       "      <td>201.250693</td>\n",
       "      <td>255.807973</td>\n",
       "    </tr>\n",
       "    <tr>\n",
       "      <th>config6</th>\n",
       "      <td>199.0</td>\n",
       "      <td>110.422689</td>\n",
       "      <td>40.875754</td>\n",
       "      <td>2.124534</td>\n",
       "      <td>81.656211</td>\n",
       "      <td>111.043642</td>\n",
       "      <td>137.554141</td>\n",
       "      <td>215.295283</td>\n",
       "    </tr>\n",
       "  </tbody>\n",
       "</table>\n",
       "</div>"
      ],
      "text/plain": [
       "               count        mean        std         min         25%  \\\n",
       "configuration                                                         \n",
       "config1        193.0   99.590413   9.386788   73.802549   92.979469   \n",
       "config2        197.0  151.732975  19.833198   85.174653  137.995662   \n",
       "config3        195.0  138.616959  19.867428   90.567110  124.803901   \n",
       "config4        196.0  127.606156  50.282164    4.970286   94.793688   \n",
       "config5        197.0  183.659767  28.729836  107.283620  164.070091   \n",
       "config6        199.0  110.422689  40.875754    2.124534   81.656211   \n",
       "\n",
       "                      50%         75%         max  \n",
       "configuration                                      \n",
       "config1         99.865028  104.824724  127.201692  \n",
       "config2        151.516091  163.802880  227.054630  \n",
       "config3        138.678404  151.536291  201.577616  \n",
       "config4        129.975246  164.327163  241.987620  \n",
       "config5        183.843132  201.250693  255.807973  \n",
       "config6        111.043642  137.554141  215.295283  "
      ]
     },
     "execution_count": 12,
     "metadata": {},
     "output_type": "execute_result"
    }
   ],
   "source": [
    "descriptive_params = df.groupby(\"configuration\", observed = True)[\"runtime\"].describe()\n",
    "\n",
    "pd.DataFrame(descriptive_params)"
   ]
  },
  {
   "cell_type": "markdown",
   "metadata": {},
   "source": [
    "__OTÁZKA K DOPLNĚNÍ:__\n",
    "\n",
    "_Okomentujte, co všechno můžeme z parametrů vyčíst._\n",
    "\n",
    "Tabulka zobrazuje následující sloupce:\n",
    "\n",
    "* **count** - počet řádků (běhů) `df` pro každou z konfigurací (`config1-5`). Vzhledem k tomu, že jsou data vyčištěna se zde ukazují hodnoty pouze úspěšných běhů programu. Lze si všimnout, že nejvíce úspěšných běhů je u konfigurace 6 a nejméně u 1\n",
    "* **mean** - průměrná délka `runtime` každé konfigurace. Lze si například všimnout toho, že nejdelší průměrný čas běhu má konfigurace 5 a nejnižší 1.\n",
    "* **std** - udává směrodatnou odchylku, tedy říká, jak moc jsou hodnoty rozptýlené okolo průměru. Ukazuje to, jak moc konzistentní jednotlivé konfigurace jsou v rámci jejich běhů. To znamená, že čím menší odchylka, tím konzistentnější čas. Největší odchylku má konfigurace 4 a nejmenší konfigurace 1.\n",
    "* **min** - Je to nejkratší doba běhu u každé z konfigurací. Tedy žádný průměr, prostě jedna nejnižší hodnota. Celkově běžel program nejkratší dobu v konfiguraci 6.\n",
    "* **25%, 50%, 75%** - Udává hodnoty u konfigurací pro jednotlivé kvartily (pro 25%, 50%, tedy medián a 75%). První kvartil (25%) říká, že 25% běhů byla kratší, než je tato hodnota. To samé platí pro medián (50%) a třetí kvartil (75%), jenom pro jiné procentuální hodnoty.\n",
    "* **max** - Je to opak minimální doby běhu - tedy nejdelší doba běhu. Podle tabulky nejdéle program běžel v konfiguraci 5."
   ]
  },
  {
   "cell_type": "markdown",
   "metadata": {},
   "source": [
    "## Vizualizace\n",
    "Vizualizujte časy běhů algoritmů tak, aby byl v jednom grafu zřejmý i rozptyl hodnot, avšak bylo možné porovnání. Zvolte vhodný graf, který pak níže komentujte."
   ]
  },
  {
   "cell_type": "code",
   "execution_count": 6,
   "metadata": {},
   "outputs": [],
   "source": [
    "# TODO"
   ]
  },
  {
   "cell_type": "markdown",
   "metadata": {},
   "source": [
    "__OTÁZKA K DOPLNĚNÍ:__\n",
    "\n",
    "_Okomentujte  výsledky z tabulky._"
   ]
  },
  {
   "cell_type": "markdown",
   "metadata": {},
   "source": [
    "## Určení efektivity konfigurací algoritmů\n",
    "Nás ale zajímá, jaká konfigurace je nejrychlejší. Z výše vykresleného grafu můžeme vyloučit některé konfigurace. Existuje tam však minimálně jedna dvojice, u které nedokážeme jednoznačně určit, která je lepší - pokud nebudeme porovnávat pouze extrémní hodnoty, které mohou být dané náhodou, ale celkově. Proto proveďte vhodný test významnosti - v následující části diskutujte zejména rozložení dat (i s odkazem na předchozí buňky, variabilitu vs polohu a podobně). Je nutné každý logický krok a výběry statistických funkcí komentovat. \n",
    "\n",
    "Vužijte vhodnou funkci z knihovny `scipy.stats` a funkci poté __implementujte sami__ na základě základních matematických funkcí knihovny `numpy` případně i funkcí pro výpočet vybraného rozložení v [scipy.stats](https://docs.scipy.org/doc/scipy/reference/stats.html). Při vlastní implementaci není nutné se primárně soustředit na efektivitu výpočtu (není potřeba využít všechny funkce numpy, můžete použít normální cykly a podobně - v hodnocení však bude zahrnuta přehlednost a neměly by se objevit jasné chyby, jako je zvýšení třídy složitosti a podobně)."
   ]
  },
  {
   "cell_type": "markdown",
   "metadata": {},
   "source": [
    "__OTÁZKA K DOPLNĚNÍ:__\n",
    "\n",
    "_Jaká data budete zkoumat? Jaké mají rozložení a parametry (např. varianci) a jaký test použijete? Jaká je nulová hypotéza? Jak se liší variabilita a poloha vybraných konfigurací?_"
   ]
  },
  {
   "cell_type": "code",
   "execution_count": 7,
   "metadata": {},
   "outputs": [],
   "source": [
    "# TODO: Implementace s využitím knihovní funkcí\n"
   ]
  },
  {
   "cell_type": "markdown",
   "metadata": {},
   "source": [
    "__OTÁZKA K DOPLNĚNÍ:__\n",
    "\n",
    "_Jaký je závěr statistického testu?_"
   ]
  },
  {
   "cell_type": "markdown",
   "metadata": {},
   "source": [
    "### Vlastní implementace\n",
    "Implementujte stejný test pomocí knihovních funkcí a ukažte, že je výsledek stejný."
   ]
  },
  {
   "cell_type": "code",
   "execution_count": 8,
   "metadata": {},
   "outputs": [],
   "source": [
    "# TODO vlastni implementace zvoleneho testu"
   ]
  }
 ],
 "metadata": {
  "kernelspec": {
   "display_name": ".venv",
   "language": "python",
   "name": "python3"
  },
  "language_info": {
   "codemirror_mode": {
    "name": "ipython",
    "version": 3
   },
   "file_extension": ".py",
   "mimetype": "text/x-python",
   "name": "python",
   "nbconvert_exporter": "python",
   "pygments_lexer": "ipython3",
   "version": "3.12.7"
  },
  "orig_nbformat": 4
 },
 "nbformat": 4,
 "nbformat_minor": 2
}
