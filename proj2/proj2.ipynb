{
 "cells": [
  {
   "cell_type": "markdown",
   "metadata": {},
   "source": [
    "# MSP projekt 2 - Ondřej Lukášek (xlukas15)"
   ]
  },
  {
   "cell_type": "markdown",
   "metadata": {},
   "source": [
    "Začnu tím, že si naimportuji potřebné knihovny, se kterými budu v projektu pracovat."
   ]
  },
  {
   "cell_type": "code",
   "execution_count": 151,
   "metadata": {},
   "outputs": [],
   "source": [
    "import matplotlib.pyplot as plt\n",
    "import numpy as np\n",
    "import pandas as pd\n",
    "import scipy.optimize as opt\n",
    "import scipy.stats as stats\n",
    "import scipy.special as special\n",
    "import statsmodels.formula.api as smf\n",
    "from statsmodels.stats.outliers_influence import variance_inflation_factor"
   ]
  },
  {
   "cell_type": "markdown",
   "metadata": {},
   "source": [
    "## Úkol 1 - Věrohodnost"
   ]
  },
  {
   "cell_type": "markdown",
   "metadata": {},
   "source": [
    "Nejprve si načtu list (sheet), který obsahuje data, se kterými budu pracovat.\n",
    "\n",
    "Předpřipravím si parametry tak, abych je mohl rovnou použít dál."
   ]
  },
  {
   "cell_type": "code",
   "execution_count": 152,
   "metadata": {},
   "outputs": [],
   "source": [
    "file_path = 'Data_2024.xlsx'\n",
    "sheet_name = 'Data_věrohodnost'\n",
    "\n",
    "data = pd.read_excel(file_path, sheet_name=sheet_name)\n",
    "times = data['doba práce v oboru [roky]'].dropna().to_numpy()\n",
    "censored = data['censored'].to_numpy()\n",
    "\n",
    "initial_params = (1.5, 5.0)"
   ]
  },
  {
   "cell_type": "markdown",
   "metadata": {},
   "source": [
    "### Bod 1"
   ]
  },
  {
   "cell_type": "code",
   "execution_count": 153,
   "metadata": {},
   "outputs": [
    {
     "name": "stdout",
     "output_type": "stream",
     "text": [
      "Log-likelihood: -740.8976732574417\n",
      "Derivatives: [64.24195393 77.00791218]\n"
     ]
    }
   ],
   "source": [
    "def weibull_log_likelihood(params, times, censored):\n",
    "    k, lam = params\n",
    "    \n",
    "    # logaritmizace pro necenzurovana data\n",
    "    log_f = np.log(k) - k * np.log(lam) + (k - 1) * np.log(times) - (times / lam)**k\n",
    "    # logaritmizace pro cenzurovana data\n",
    "    log_sf = - (times / lam)**k\n",
    "    \n",
    "    # spojeni logaritmu pro necenzurovana a cenzurovana data\n",
    "    likelihood = (1 - censored) * log_f + censored * log_sf\n",
    "\n",
    "    return likelihood.sum()\n",
    "\n",
    "\n",
    "# MOZNA SMAZAT???\n",
    "def weibull_log_likelihood_derivatives(params, times, censored):\n",
    "    k, lam = params\n",
    "\n",
    "    # predvypocitani konstant, co se budou v derivacich opakovat\n",
    "    t_lam_k = (times / lam)**k\n",
    "    log_t_lam = np.log(times / lam)\n",
    "    \n",
    "    # parcialni derivace logaritmu podle parametru k\n",
    "    dL_dk = np.sum((1 - censored) * (1 / k + log_t_lam - t_lam_k * log_t_lam) + censored * (-t_lam_k * log_t_lam))\n",
    "    # parcialni derivace logaritmu podle parametru lambda\n",
    "    dL_dlam = np.sum((1 - censored) * (-k / lam + k * t_lam_k / lam) + censored * (k * t_lam_k / lam))\n",
    "    \n",
    "    return np.array([dL_dk, dL_dlam])\n",
    "\n",
    "\n",
    "log_likelihood = weibull_log_likelihood(initial_params, times, censored)\n",
    "derivatives = weibull_log_likelihood_derivatives(initial_params, times, censored)\n",
    "\n",
    "print(f'Log-likelihood: {log_likelihood}')\n",
    "print(f'Derivatives: {derivatives}')"
   ]
  },
  {
   "cell_type": "markdown",
   "metadata": {},
   "source": [
    "### Bod 2"
   ]
  },
  {
   "cell_type": "code",
   "execution_count": 154,
   "metadata": {},
   "outputs": [
    {
     "name": "stdout",
     "output_type": "stream",
     "text": [
      "Maximal likelihood estimation:\n",
      "Shape (k): 6.172808847674017\n",
      "Scale (lambda): 7.4294603426242265\n"
     ]
    }
   ],
   "source": [
    "def neg_weibull_log_likelihood(params, times, censored):\n",
    "    return -weibull_log_likelihood(params, times, censored)\n",
    "\n",
    "result = opt.minimize(\n",
    "    fun=neg_weibull_log_likelihood,\n",
    "    x0=initial_params,\n",
    "    args=(times, censored),\n",
    "    method='L-BFGS-B',\n",
    "    bounds=[(0.1, None), (0.1, None)]\n",
    ")\n",
    "\n",
    "optimal_shape, optimal_scale = result.x\n",
    "\n",
    "print('Maximal likelihood estimation:')\n",
    "print(f'Shape (k): {optimal_shape}')\n",
    "print(f'Scale (lambda): {optimal_scale}')"
   ]
  },
  {
   "cell_type": "markdown",
   "metadata": {},
   "source": [
    "### Bod 3\n",
    "\n",
    "Pomocí věrohodnostního poměru otestujte hypotézu, že exponenciální rozdělení je postačujícím modelem zapsaných dat (Parametr tvaru = 1)."
   ]
  },
  {
   "cell_type": "markdown",
   "metadata": {},
   "source": [
    "By default je distribuční funkce (pro $ x \\geq 0 $) exponenciálního rozdělení:\n",
    "\n",
    "$ f(x; \\lambda) = \\lambda e^{-\\lambda x} $\n",
    "\n",
    "Logaritmus potom bude:\n",
    "\n",
    "$ \\ell(x; \\lambda) = \\ln \\lambda - \\lambda x $\n",
    "\n",
    "Log-likelihood potom je:\n",
    "\n",
    "$ \\ell(\\lambda) = \\sum_{i=1}^n \\left[ \\ln \\lambda - \\lambda x_i \\right]  $"
   ]
  },
  {
   "cell_type": "code",
   "execution_count": 155,
   "metadata": {},
   "outputs": [
    {
     "name": "stdout",
     "output_type": "stream",
     "text": [
      "Likelihood ratio: 592.3898153427439\n",
      "Critical value (alpha = 0.05): 3.841458820694124\n",
      "Zamítáme nulovou hypotézu. Exponenciální rozdělení není postačující.\n"
     ]
    }
   ],
   "source": [
    "def exponential_log_likelihood(lam, times, censored):\n",
    "    log_f = np.log(lam) - lam * times\n",
    "    log_sf = -lam * times\n",
    "\n",
    "    likelihood = (1 - censored) * log_f + censored * log_sf\n",
    "    return np.sum(likelihood)\n",
    "\n",
    "\n",
    "result_exp = opt.minimize(\n",
    "    fun=lambda lam: -exponential_log_likelihood(lam[0], times, censored),\n",
    "    x0=[1.0],\n",
    "    bounds=[(0.1, None)],\n",
    "    method='L-BFGS-B'\n",
    ")\n",
    "\n",
    "lambda_exp = result_exp.x[0]\n",
    "log_likelihood_exp = -result_exp.fun\n",
    "\n",
    "k_weibull, lambda_weibull = result.x\n",
    "result_weibull = -result.fun\n",
    "\n",
    "# VYPOCET VEROHODNOSTNIHO POMERU\n",
    "LR = 2 * (result_weibull - log_likelihood_exp)\n",
    "\n",
    "alpha = 0.05\n",
    "critical_value = stats.chi2.ppf(1 - alpha, df=1)\n",
    "\n",
    "print(f'Likelihood ratio: {LR}')\n",
    "print(f'Critical value (alpha = {alpha}): {critical_value}')\n",
    "\n",
    "if LR > critical_value:\n",
    "    print('Zamítáme nulovou hypotézu. Exponenciální rozdělení není postačující.')\n",
    "else:\n",
    "    print('Nulovou hypotézu nezamítáme. Exponenciální rozdělení je postačující.')"
   ]
  },
  {
   "cell_type": "markdown",
   "metadata": {},
   "source": [
    "### Bod 4\n",
    "\n",
    "Podle výsledku z předchozího bodu použijte výsledné rozdělení pravděpodobnosti (s maximálně věrohodnými odhady jako parametry) a nalezněte bodové odhady pro střední dobu zaměstnání v oboru a 10% percentil zaměstnání v oboru (za jakou dobu odejde do jiného oboru 10% absolventů)."
   ]
  },
  {
   "cell_type": "markdown",
   "metadata": {},
   "source": [
    "Jelikož v předchozím bodu na základě testu vyšlo, že exponenciální rozdělení není postačující, budu dále pokračovat s Weibullovým rozdělením.\n",
    "\n",
    "U Weibullova rozdělení se střední hodnota vypočítá následovně (z Wikipedie):\n",
    "\n",
    "$ Mean = \\lambda \\Gamma (1 + \\frac{1}{k}) $\n",
    "\n",
    "A kvantily se počítají pomocí vzorce:\n",
    "\n",
    "$ Q(p) = \\lambda (- \\ln (1 - p))^{\\frac{1}{k}} \\implies Q(0.1) = \\lambda (- \\ln (0.9))^{\\frac{1}{k}} $"
   ]
  },
  {
   "cell_type": "code",
   "execution_count": 156,
   "metadata": {},
   "outputs": [
    {
     "name": "stdout",
     "output_type": "stream",
     "text": [
      "=== Weibull distribution ===\n",
      "Shape (k): 6.172808847674017\n",
      "Scale (lambda): 7.4294603426242265\n",
      "\n",
      "=== Mean, Quantile ===\n",
      "Mean: 6.903242509050911\n",
      "10% quantile: 5.159769490910647\n"
     ]
    }
   ],
   "source": [
    "def weibull_mean(k, lam):\n",
    "    return lam * special.gamma(1 + 1 / k)\n",
    "\n",
    "\n",
    "def weibull_quantile(p, k, lam):\n",
    "    return lam * (- np.log(1 - p))**(1 / k)\n",
    "\n",
    "\n",
    "mean = weibull_mean(k_weibull, lambda_weibull)\n",
    "quantile = weibull_quantile(0.1, k_weibull, lambda_weibull)\n",
    "\n",
    "print('=== Weibull distribution ===')\n",
    "print(f'Shape (k): {k_weibull}')\n",
    "print(f'Scale (lambda): {lambda_weibull}\\n')\n",
    "\n",
    "print('=== Mean, Quantile ===')\n",
    "print(f'Mean: {mean}')\n",
    "print(f'10% quantile: {quantile}')"
   ]
  },
  {
   "cell_type": "markdown",
   "metadata": {},
   "source": [
    "### Bod 5 (dobrovolný)\n",
    "\n",
    "Zkuste nějak slovně charakterizovat/popsat fungování doby zaměstnání v oboru jako náhodné veličiny, dle vašich výsledků a parametrů."
   ]
  },
  {
   "cell_type": "markdown",
   "metadata": {},
   "source": [
    "**TODO**"
   ]
  },
  {
   "cell_type": "markdown",
   "metadata": {},
   "source": [
    "## Úkol 2 - Regrese"
   ]
  },
  {
   "cell_type": "markdown",
   "metadata": {},
   "source": [
    "Opět začnu tím, že si nejprve načtu data z Excelu. Pro jistotu si přetypuji hodnoty, abych se vyhnul problémům do budoucna (kdy náhodou něco nefungovalo). "
   ]
  },
  {
   "cell_type": "code",
   "execution_count": 157,
   "metadata": {},
   "outputs": [
    {
     "data": {
      "text/html": [
       "<div>\n",
       "<style scoped>\n",
       "    .dataframe tbody tr th:only-of-type {\n",
       "        vertical-align: middle;\n",
       "    }\n",
       "\n",
       "    .dataframe tbody tr th {\n",
       "        vertical-align: top;\n",
       "    }\n",
       "\n",
       "    .dataframe thead th {\n",
       "        text-align: right;\n",
       "    }\n",
       "</style>\n",
       "<table border=\"1\" class=\"dataframe\">\n",
       "  <thead>\n",
       "    <tr style=\"text-align: right;\">\n",
       "      <th></th>\n",
       "      <th>OSType</th>\n",
       "      <th>ActiveUsers</th>\n",
       "      <th>InteractingPct</th>\n",
       "      <th>ScrollingPct</th>\n",
       "      <th>Ping</th>\n",
       "    </tr>\n",
       "  </thead>\n",
       "  <tbody>\n",
       "    <tr>\n",
       "      <th>0</th>\n",
       "      <td>iOS</td>\n",
       "      <td>4113</td>\n",
       "      <td>0.8283</td>\n",
       "      <td>0.1717</td>\n",
       "      <td>47</td>\n",
       "    </tr>\n",
       "    <tr>\n",
       "      <th>1</th>\n",
       "      <td>iOS</td>\n",
       "      <td>7549</td>\n",
       "      <td>0.3461</td>\n",
       "      <td>0.6539</td>\n",
       "      <td>46</td>\n",
       "    </tr>\n",
       "    <tr>\n",
       "      <th>2</th>\n",
       "      <td>Windows</td>\n",
       "      <td>8855</td>\n",
       "      <td>0.2178</td>\n",
       "      <td>0.7822</td>\n",
       "      <td>55</td>\n",
       "    </tr>\n",
       "    <tr>\n",
       "      <th>3</th>\n",
       "      <td>Android</td>\n",
       "      <td>8870</td>\n",
       "      <td>0.0794</td>\n",
       "      <td>0.9206</td>\n",
       "      <td>56</td>\n",
       "    </tr>\n",
       "    <tr>\n",
       "      <th>4</th>\n",
       "      <td>MacOS</td>\n",
       "      <td>9559</td>\n",
       "      <td>0.7282</td>\n",
       "      <td>0.2718</td>\n",
       "      <td>76</td>\n",
       "    </tr>\n",
       "  </tbody>\n",
       "</table>\n",
       "</div>"
      ],
      "text/plain": [
       "    OSType  ActiveUsers  InteractingPct  ScrollingPct  Ping\n",
       "0      iOS         4113          0.8283        0.1717    47\n",
       "1      iOS         7549          0.3461        0.6539    46\n",
       "2  Windows         8855          0.2178        0.7822    55\n",
       "3  Android         8870          0.0794        0.9206    56\n",
       "4    MacOS         9559          0.7282        0.2718    76"
      ]
     },
     "execution_count": 157,
     "metadata": {},
     "output_type": "execute_result"
    }
   ],
   "source": [
    "file_path = 'Data_2024.xlsx'\n",
    "sheet_name = 'Data_regrese'\n",
    "\n",
    "df = pd.read_excel(file_path, sheet_name=sheet_name)\n",
    "\n",
    "df['OSType'] = df['OSType'].astype('category')\n",
    "\n",
    "columns_to_numeric = ['ActiveUsers', 'InteractingPct', 'ScrollingPct', 'Ping [ms]']\n",
    "df[columns_to_numeric] = df[columns_to_numeric].apply(pd.to_numeric, errors='coerce')\n",
    "\n",
    "# prejmenoal jsem si sloupec Ping [ms] na Ping, protoze mi to delalo problemy u ols modelu\n",
    "df.rename(columns={'Ping [ms]': 'Ping'}, inplace=True)\n",
    "\n",
    "df.head()"
   ]
  },
  {
   "cell_type": "code",
   "execution_count": 158,
   "metadata": {},
   "outputs": [
    {
     "data": {
      "text/html": [
       "<div>\n",
       "<style scoped>\n",
       "    .dataframe tbody tr th:only-of-type {\n",
       "        vertical-align: middle;\n",
       "    }\n",
       "\n",
       "    .dataframe tbody tr th {\n",
       "        vertical-align: top;\n",
       "    }\n",
       "\n",
       "    .dataframe thead th {\n",
       "        text-align: right;\n",
       "    }\n",
       "</style>\n",
       "<table border=\"1\" class=\"dataframe\">\n",
       "  <thead>\n",
       "    <tr style=\"text-align: right;\">\n",
       "      <th></th>\n",
       "      <th>OSType</th>\n",
       "      <th>ActiveUsers</th>\n",
       "      <th>InteractingPct</th>\n",
       "      <th>ScrollingPct</th>\n",
       "      <th>Ping</th>\n",
       "    </tr>\n",
       "  </thead>\n",
       "  <tbody>\n",
       "    <tr>\n",
       "      <th>0</th>\n",
       "      <td>iOS</td>\n",
       "      <td>-0.191837</td>\n",
       "      <td>0.8283</td>\n",
       "      <td>0.1717</td>\n",
       "      <td>47</td>\n",
       "    </tr>\n",
       "    <tr>\n",
       "      <th>1</th>\n",
       "      <td>iOS</td>\n",
       "      <td>0.509388</td>\n",
       "      <td>0.3461</td>\n",
       "      <td>0.6539</td>\n",
       "      <td>46</td>\n",
       "    </tr>\n",
       "    <tr>\n",
       "      <th>2</th>\n",
       "      <td>Windows</td>\n",
       "      <td>0.775918</td>\n",
       "      <td>0.2178</td>\n",
       "      <td>0.7822</td>\n",
       "      <td>55</td>\n",
       "    </tr>\n",
       "    <tr>\n",
       "      <th>3</th>\n",
       "      <td>Android</td>\n",
       "      <td>0.778980</td>\n",
       "      <td>0.0794</td>\n",
       "      <td>0.9206</td>\n",
       "      <td>56</td>\n",
       "    </tr>\n",
       "    <tr>\n",
       "      <th>4</th>\n",
       "      <td>MacOS</td>\n",
       "      <td>0.919592</td>\n",
       "      <td>0.7282</td>\n",
       "      <td>0.2718</td>\n",
       "      <td>76</td>\n",
       "    </tr>\n",
       "  </tbody>\n",
       "</table>\n",
       "</div>"
      ],
      "text/plain": [
       "    OSType  ActiveUsers  InteractingPct  ScrollingPct  Ping\n",
       "0      iOS    -0.191837          0.8283        0.1717    47\n",
       "1      iOS     0.509388          0.3461        0.6539    46\n",
       "2  Windows     0.775918          0.2178        0.7822    55\n",
       "3  Android     0.778980          0.0794        0.9206    56\n",
       "4    MacOS     0.919592          0.7282        0.2718    76"
      ]
     },
     "execution_count": 158,
     "metadata": {},
     "output_type": "execute_result"
    }
   ],
   "source": [
    "df['ActiveUsers'] = 2 * (df['ActiveUsers'] - (df['ActiveUsers'].max() + df['ActiveUsers'].min()) / 2) / (df['ActiveUsers'].max() - df['ActiveUsers'].min())\n",
    "\n",
    "df.head()"
   ]
  },
  {
   "cell_type": "code",
   "execution_count": 159,
   "metadata": {},
   "outputs": [
    {
     "name": "stdout",
     "output_type": "stream",
     "text": [
      "   ActiveUsers  InteractingPct  ScrollingPct  Ping  MacOS  Windows    iOS\n",
      "0    -0.191837          0.8283        0.1717    47  False    False   True\n",
      "1     0.509388          0.3461        0.6539    46  False    False   True\n",
      "2     0.775918          0.2178        0.7822    55  False     True  False\n",
      "3     0.778980          0.0794        0.9206    56  False    False  False\n",
      "4     0.919592          0.7282        0.2718    76   True    False  False\n"
     ]
    }
   ],
   "source": [
    "# prevod na dummy promenne - Android dropneme, protoze bude refencni kategorii\n",
    "dummy_ostype = pd.get_dummies(df['OSType'], drop_first=True)\n",
    "\n",
    "# sloucime je s puvodnim dataframem a dropneme puvodni sloupec, protoze neni potreba\n",
    "df = pd.concat([df, dummy_ostype], axis=1)\n",
    "df = df.drop(columns=['OSType'])\n",
    "\n",
    "print(df.head())"
   ]
  },
  {
   "cell_type": "markdown",
   "metadata": {},
   "source": [
    "### Bod 1\n",
    "\n",
    "Pomocí zpětné eliminace určete vhodný regresní model. Za výchozí \"plný\" model považujte plný kvadratický model (všechny interakce druhého řádu a všechny druhé mocniny, které dávají smysl).\n",
    "\n",
    "- Zapište rovnici Vašeho finálního modelu.\n",
    "- Diskutujte splnění přepokladů lineární regrese a základní regresní diagnostiky.\n",
    "- Pokud (až během regresního modelování) identifikujete některé \"nejodlehlejší\" hodnoty, po alespoň krátkém zdůvodnění, vyřadit."
   ]
  },
  {
   "cell_type": "markdown",
   "metadata": {},
   "source": [
    "Začnu tím, že si data vizualizuji pro lepší představu toho, s čím budu vlastně pracovat.\n",
    "\n",
    "Zřejmě budu pracovat se závislostí odezvy na počtu aktivní uživatelů na mé \"socce\".\n",
    "\n",
    "Na grafu je možné si pouhým okem všimnout rostoucí tendence - tedy čím víc je uživatelů, tím větší je ping.\n"
   ]
  },
  {
   "cell_type": "code",
   "execution_count": 160,
   "metadata": {},
   "outputs": [
    {
     "data": {
      "image/png": "[encoded data removed]",
      "text/plain": [
       "<Figure size 640x480 with 1 Axes>"
      ]
     },
     "metadata": {},
     "output_type": "display_data"
    }
   ],
   "source": [
    "# ActiveUsers vs Ping [ms]\n",
    "plt.scatter(df['ActiveUsers'], df['Ping'], alpha=0.5, color='blue')\n",
    "plt.title('ActiveUsers vs Ping [ms]')\n",
    "plt.xlabel('ActiveUsers')\n",
    "plt.ylabel('Ping [ms]')\n",
    "\n",
    "\n",
    "plt.tight_layout()\n",
    "plt.show()"
   ]
  },
  {
   "cell_type": "markdown",
   "metadata": {},
   "source": [
    "Teďka už můžu vytvořit formuli, která bude na začátku vypadat takto:\n",
    "\n",
    "$   formule = \n",
    "    \\beta_{0} +\n",
    "    \\beta_{1} \\cdot ActiveUsers + \\beta_{2} \\cdot InteractingPct + \\beta_{3} \\cdot ScrollingPct + \\beta_{4} \\cdot MacOS + \\beta_{5} \\cdot Windows + \\beta_{6} \\cdot iOS +\n",
    "    \\beta_{7} \\cdot ActiveUsers^2 + \\beta_{8} \\cdot ActiveUsers \\cdot InteractingPct + \\beta_{9} \\cdot ActiveUsers \\cdot ScrollingPct + \\beta_{10} ActiveUsers \\cdot MacOS + \\beta_{11} \\cdot ActiveUsers \\cdot Windows + \\beta_{12} ActiveUsers \\cdot iOS +\n",
    "    \\beta_{13} \\cdot InteractingPct^2 + \\beta_{14} \\cdot InteractingPct \\cdot ScrollingPct + \\beta_{15} \\cdot InteractingPct \\cdot MacOS + \\beta_{16} \\cdot InteractingPct \\cdot Windows + \\beta_{17} \\cdot InteractingPct \\cdot iOS +\n",
    "    \\beta_{18} \\cdot ScrollingPct^2 + \\beta_{19} \\cdot ScrollingPct \\cdot MacOS + \\beta_{20} \\cdot ScrollingPct \\cdot Windows + \\beta_{21} \\cdot ScrollingPct \\cdot iOS\n",
    "$"
   ]
  },
  {
   "cell_type": "code",
   "execution_count": 161,
   "metadata": {},
   "outputs": [
    {
     "name": "stdout",
     "output_type": "stream",
     "text": [
      "                            OLS Regression Results                            \n",
      "==============================================================================\n",
      "Dep. Variable:                   Ping   R-squared:                       0.844\n",
      "Model:                            OLS   Adj. R-squared:                  0.839\n",
      "Method:                 Least Squares   F-statistic:                     187.9\n",
      "Date:                Wed, 11 Dec 2024   Prob (F-statistic):          5.18e-186\n",
      "Time:                        23:00:26   Log-Likelihood:                -1598.4\n",
      "No. Observations:                 502   AIC:                             3227.\n",
      "Df Residuals:                     487   BIC:                             3290.\n",
      "Df Model:                          14                                         \n",
      "Covariance Type:            nonrobust                                         \n",
      "==================================================================================================\n",
      "                                     coef    std err          t      P>|t|      [0.025      0.975]\n",
      "--------------------------------------------------------------------------------------------------\n",
      "Intercept                         30.0305      0.518     58.005      0.000      29.013      31.048\n",
      "MacOS[T.True]                      5.9228      0.522     11.337      0.000       4.896       6.949\n",
      "Windows[T.True]                    2.7871      0.524      5.317      0.000       1.757       3.817\n",
      "iOS[T.True]                       -3.5082      0.539     -6.514      0.000      -4.566      -2.450\n",
      "ActiveUsers                       13.9389      0.773     18.030      0.000      12.420      15.458\n",
      "ActiveUsers:MacOS[T.True]          6.8470      1.509      4.536      0.000       3.881       9.813\n",
      "ActiveUsers:Windows[T.True]       -3.7332      1.490     -2.505      0.013      -6.661      -0.806\n",
      "ActiveUsers:iOS[T.True]           -5.1859      1.539     -3.369      0.001      -8.211      -2.161\n",
      "InteractingPct                    19.5866      0.568     34.488      0.000      18.471      20.702\n",
      "InteractingPct:MacOS[T.True]       2.7831      1.293      2.153      0.032       0.243       5.323\n",
      "InteractingPct:Windows[T.True]     1.6066      1.406      1.143      0.254      -1.155       4.368\n",
      "InteractingPct:iOS[T.True]        -1.6202      1.400     -1.157      0.248      -4.372       1.131\n",
      "ScrollingPct                      10.4439      0.544     19.209      0.000       9.376      11.512\n",
      "ScrollingPct:MacOS[T.True]         3.1397      1.290      2.433      0.015       0.604       5.675\n",
      "ScrollingPct:Windows[T.True]       1.1805      1.365      0.865      0.387      -1.501       3.862\n",
      "ScrollingPct:iOS[T.True]          -1.8880      1.344     -1.405      0.161      -4.528       0.752\n",
      "I(ActiveUsers ** 2)              -10.0114      1.057     -9.469      0.000     -12.089      -7.934\n",
      "ActiveUsers:InteractingPct        -0.5920      0.984     -0.601      0.548      -2.526       1.342\n",
      "ActiveUsers:ScrollingPct          14.5309      0.949     15.308      0.000      12.666      16.396\n",
      "I(InteractingPct ** 2)             8.3345      1.210      6.890      0.000       5.958      10.711\n",
      "InteractingPct:ScrollingPct       11.2521      1.287      8.743      0.000       8.723      13.781\n",
      "I(ScrollingPct ** 2)              -0.8082      1.214     -0.666      0.506      -3.194       1.577\n",
      "==============================================================================\n",
      "Omnibus:                      228.442   Durbin-Watson:                   1.933\n",
      "Prob(Omnibus):                  0.000   Jarque-Bera (JB):             3152.488\n",
      "Skew:                           1.603   Prob(JB):                         0.00\n",
      "Kurtosis:                      14.851   Cond. No.                     4.83e+16\n",
      "==============================================================================\n",
      "\n",
      "Notes:\n",
      "[1] Standard Errors assume that the covariance matrix of the errors is correctly specified.\n",
      "[2] The smallest eigenvalue is 4.67e-31. This might indicate that there are\n",
      "strong multicollinearity problems or that the design matrix is singular.\n"
     ]
    }
   ],
   "source": [
    "formula = (\n",
    "    'Ping ~ ActiveUsers + InteractingPct + ScrollingPct + MacOS + Windows + iOS +'\n",
    "    'I(ActiveUsers**2) + ActiveUsers:InteractingPct + ActiveUsers:ScrollingPct + ActiveUsers:MacOS + ActiveUsers:Windows + ActiveUsers:iOS +'\n",
    "    'I(InteractingPct**2) + InteractingPct:ScrollingPct + InteractingPct:MacOS + InteractingPct:Windows + InteractingPct:iOS +'\n",
    "    'I(ScrollingPct**2) + ScrollingPct:MacOS + ScrollingPct:Windows + ScrollingPct:iOS'\n",
    ")\n",
    "\n",
    "def evaluate_model(df, formula):\n",
    "    model = smf.ols(formula=formula, data=df)\n",
    "    result = model.fit()\n",
    "    return result, model\n",
    "\n",
    "result, model = evaluate_model(df, formula)\n",
    "print(result.summary())"
   ]
  },
  {
   "cell_type": "code",
   "execution_count": 162,
   "metadata": {},
   "outputs": [
    {
     "name": "stdout",
     "output_type": "stream",
     "text": [
      "====  VIF ====\n",
      "                                     VIF\n",
      "Intercept                       0.000000\n",
      "MacOS[T.True]                        inf\n",
      "Windows[T.True]                      inf\n",
      "iOS[T.True]                          inf\n",
      "ActiveUsers                          inf\n",
      "ActiveUsers:MacOS[T.True]       2.385958\n",
      "ActiveUsers:Windows[T.True]     2.434729\n",
      "ActiveUsers:iOS[T.True]         2.231460\n",
      "InteractingPct                       inf\n",
      "InteractingPct:MacOS[T.True]         inf\n",
      "InteractingPct:Windows[T.True]       inf\n",
      "InteractingPct:iOS[T.True]           inf\n",
      "ScrollingPct                         inf\n",
      "ScrollingPct:MacOS[T.True]           inf\n",
      "ScrollingPct:Windows[T.True]         inf\n",
      "ScrollingPct:iOS[T.True]             inf\n",
      "I(ActiveUsers ** 2)             1.145080\n",
      "ActiveUsers:InteractingPct           inf\n",
      "ActiveUsers:ScrollingPct             inf\n",
      "I(InteractingPct ** 2)               inf\n",
      "InteractingPct:ScrollingPct          inf\n",
      "I(ScrollingPct ** 2)                 inf\n",
      "\n",
      "\n",
      "\n",
      "==== Matice korelace ====\n",
      "                                Intercept  ...  I(ScrollingPct ** 2)\n",
      "Intercept                             NaN  ...                   NaN\n",
      "MacOS[T.True]                         NaN  ...             -0.059509\n",
      "Windows[T.True]                       NaN  ...             -0.009201\n",
      "iOS[T.True]                           NaN  ...              0.067640\n",
      "ActiveUsers                           NaN  ...             -0.052018\n",
      "ActiveUsers:MacOS[T.True]             NaN  ...             -0.010645\n",
      "ActiveUsers:Windows[T.True]           NaN  ...             -0.062106\n",
      "ActiveUsers:iOS[T.True]               NaN  ...             -0.018764\n",
      "InteractingPct                        NaN  ...             -0.968174\n",
      "InteractingPct:MacOS[T.True]          NaN  ...             -0.352632\n",
      "InteractingPct:Windows[T.True]        NaN  ...             -0.264649\n",
      "InteractingPct:iOS[T.True]            NaN  ...             -0.238233\n",
      "ScrollingPct                          NaN  ...              0.968174\n",
      "ScrollingPct:MacOS[T.True]            NaN  ...              0.281618\n",
      "ScrollingPct:Windows[T.True]          NaN  ...              0.235113\n",
      "ScrollingPct:iOS[T.True]              NaN  ...              0.316008\n",
      "I(ActiveUsers ** 2)                   NaN  ...              0.005672\n",
      "ActiveUsers:InteractingPct            NaN  ...             -0.109287\n",
      "ActiveUsers:ScrollingPct              NaN  ...              0.016434\n",
      "I(InteractingPct ** 2)                NaN  ...             -0.873316\n",
      "InteractingPct:ScrollingPct           NaN  ...             -0.272320\n",
      "I(ScrollingPct ** 2)                  NaN  ...              1.000000\n",
      "\n",
      "[22 rows x 22 columns]\n"
     ]
    },
    {
     "name": "stderr",
     "output_type": "stream",
     "text": [
      "C:\\Users\\ondre\\AppData\\Local\\Packages\\PythonSoftwareFoundation.Python.3.12_qbz5n2kfra8p0\\LocalCache\\local-packages\\Python312\\site-packages\\statsmodels\\regression\\linear_model.py:1782: RuntimeWarning: divide by zero encountered in scalar divide\n",
      "  return 1 - self.ssr/self.centered_tss\n",
      "C:\\Users\\ondre\\AppData\\Local\\Packages\\PythonSoftwareFoundation.Python.3.12_qbz5n2kfra8p0\\LocalCache\\local-packages\\Python312\\site-packages\\statsmodels\\stats\\outliers_influence.py:197: RuntimeWarning: divide by zero encountered in scalar divide\n",
      "  vif = 1. / (1. - r_squared_i)\n"
     ]
    }
   ],
   "source": [
    "X = pd.DataFrame(model.exog, columns=model.exog_names)\n",
    "vif = pd.Series([variance_inflation_factor(X.values, i)\n",
    "                 for i in range(X.shape[1])],\n",
    "                 index=X.columns)\n",
    "vif_df = vif.to_frame()\n",
    "\n",
    "vif_df.columns = ['VIF']\n",
    "print('====  VIF ====')\n",
    "print(vif_df)\n",
    "\n",
    "print('\\n\\n\\n==== Matice korelace ====')\n",
    "print(X.corr())\n"
   ]
  },
  {
   "cell_type": "markdown",
   "metadata": {},
   "source": [
    "Na výsledku si lze všimnout, že některé hodnoty VIFu jsou > 10.\n",
    "\n",
    "Vytvořím si ještě matici korelace, abych zjistil, kde se nacházejí závislosti, které mi tvoří problémy s vytvořením modelu.\n",
    "\n",
    "Zjišťuji, že problém tvoří korelace mezi `ScrollingPct` a `InteractingPct`.\n",
    "Dává to i smysl, vzhledem k tomu, že hodnoty si jsou doplňky, protože se jedná o procentuální hodnoty.\n",
    "Zbavit se tedy nejspíš mohu jedné z nich a je jedno které. Zkusím se zbavit `InteractingPct` a výpočet VIFu provedu znovu."
   ]
  },
  {
   "cell_type": "code",
   "execution_count": 163,
   "metadata": {},
   "outputs": [
    {
     "name": "stdout",
     "output_type": "stream",
     "text": [
      "                            OLS Regression Results                            \n",
      "==============================================================================\n",
      "Dep. Variable:                   Ping   R-squared:                       0.844\n",
      "Model:                            OLS   Adj. R-squared:                  0.839\n",
      "Method:                 Least Squares   F-statistic:                     187.9\n",
      "Date:                Wed, 11 Dec 2024   Prob (F-statistic):          5.18e-186\n",
      "Time:                        23:00:26   Log-Likelihood:                -1598.4\n",
      "No. Observations:                 502   AIC:                             3227.\n",
      "Df Residuals:                     487   BIC:                             3290.\n",
      "Df Model:                          14                                         \n",
      "Covariance Type:            nonrobust                                         \n",
      "==================================================================================================\n",
      "                                     coef    std err          t      P>|t|      [0.025      0.975]\n",
      "--------------------------------------------------------------------------------------------------\n",
      "Intercept                         39.6663      1.280     30.983      0.000      37.151      42.182\n",
      "MacOS[T.True]                      9.0626      1.485      6.102      0.000       6.145      11.981\n",
      "Windows[T.True]                    3.9677      1.516      2.617      0.009       0.989       6.947\n",
      "iOS[T.True]                       -5.3962      1.494     -3.613      0.000      -8.331      -2.461\n",
      "ActiveUsers                       28.4698      1.424     19.987      0.000      25.671      31.269\n",
      "ActiveUsers:MacOS[T.True]          6.8470      1.509      4.536      0.000       3.881       9.813\n",
      "ActiveUsers:Windows[T.True]       -3.7332      1.490     -2.505      0.013      -6.661      -0.806\n",
      "ActiveUsers:iOS[T.True]           -5.1859      1.539     -3.369      0.001      -8.211      -2.161\n",
      "InteractingPct                    22.0111      4.023      5.471      0.000      14.106      29.916\n",
      "InteractingPct:MacOS[T.True]      -0.3566      2.530     -0.141      0.888      -5.327       4.614\n",
      "InteractingPct:Windows[T.True]     0.4260      2.721      0.157      0.876      -4.919       5.771\n",
      "InteractingPct:iOS[T.True]         0.2678      2.691      0.100      0.921      -5.020       5.556\n",
      "I(ActiveUsers ** 2)              -10.0114      1.057     -9.469      0.000     -12.089      -7.934\n",
      "ActiveUsers:InteractingPct       -15.1229      1.772     -8.532      0.000     -18.606     -11.640\n",
      "I(InteractingPct ** 2)            -3.7258      3.492     -1.067      0.287     -10.587       3.135\n",
      "==============================================================================\n",
      "Omnibus:                      228.442   Durbin-Watson:                   1.933\n",
      "Prob(Omnibus):                  0.000   Jarque-Bera (JB):             3152.488\n",
      "Skew:                           1.603   Prob(JB):                         0.00\n",
      "Kurtosis:                      14.851   Cond. No.                         28.0\n",
      "==============================================================================\n",
      "\n",
      "Notes:\n",
      "[1] Standard Errors assume that the covariance matrix of the errors is correctly specified.\n"
     ]
    }
   ],
   "source": [
    "formula = (\n",
    "    'Ping ~ ActiveUsers + InteractingPct + MacOS + Windows + iOS +'\n",
    "    'I(ActiveUsers**2) + ActiveUsers:InteractingPct + ActiveUsers:MacOS + ActiveUsers:Windows + ActiveUsers:iOS +'\n",
    "    'I(InteractingPct**2) + InteractingPct:MacOS + InteractingPct:Windows + InteractingPct:iOS'\n",
    ")\n",
    "\n",
    "result, model = evaluate_model(df, formula)\n",
    "print(result.summary())"
   ]
  },
  {
   "cell_type": "markdown",
   "metadata": {},
   "source": [
    "Formuli jsem upravil tak, abych z ní vyškrtl `ScrollingPct`, teď zkusím znovu přepočítat VIFy."
   ]
  },
  {
   "cell_type": "code",
   "execution_count": 164,
   "metadata": {},
   "outputs": [
    {
     "name": "stdout",
     "output_type": "stream",
     "text": [
      "====  VIF ====\n",
      "                                      VIF\n",
      "Intercept                       23.383991\n",
      "MacOS[T.True]                    6.272004\n",
      "Windows[T.True]                  6.417808\n",
      "iOS[T.True]                      5.723560\n",
      "ActiveUsers                      7.817225\n",
      "ActiveUsers:MacOS[T.True]        2.385958\n",
      "ActiveUsers:Windows[T.True]      2.434729\n",
      "ActiveUsers:iOS[T.True]          2.231460\n",
      "InteractingPct                  20.191723\n",
      "InteractingPct:MacOS[T.True]     7.586537\n",
      "InteractingPct:Windows[T.True]   6.857633\n",
      "InteractingPct:iOS[T.True]       6.028016\n",
      "I(ActiveUsers ** 2)              1.145080\n",
      "ActiveUsers:InteractingPct       3.872128\n",
      "I(InteractingPct ** 2)          16.060875\n"
     ]
    }
   ],
   "source": [
    "X = pd.DataFrame(model.exog, columns=model.exog_names)\n",
    "vif = pd.Series([variance_inflation_factor(X.values, i)\n",
    "                 for i in range(X.shape[1])],\n",
    "                 index=X.columns)\n",
    "vif_df = vif.to_frame()\n",
    "\n",
    "vif_df.columns = ['VIF']\n",
    "print('====  VIF ====')\n",
    "print(vif_df)"
   ]
  },
  {
   "cell_type": "markdown",
   "metadata": {},
   "source": [
    "Nyní už vycházejí všechny hodnoty VIFu < 10, což je přijatelné. Můžu se tedy přesunout k zpětné eliminaci.\n",
    "\n",
    "To znamená, že teď budu potřebovat, aby všechny hodnoty ve sloupci P > |t| byly menší, než jaký je můj nastavený práh. Ten bude nastaven na klasických 5%, tedy 0.05.\n",
    "\n",
    "Toho docílím tak, že postupně budu odstraňovat největší členy formule a sledovat, jak se model změní při postupných změnách.\n",
    "V tuto chvíli je největší hodnota `InteractingPct:iOS[T.True]` s hodnotou `0.921`.\n",
    "Smažu tedy tento člen."
   ]
  },
  {
   "cell_type": "code",
   "execution_count": 165,
   "metadata": {},
   "outputs": [
    {
     "name": "stdout",
     "output_type": "stream",
     "text": [
      "                            OLS Regression Results                            \n",
      "==============================================================================\n",
      "Dep. Variable:                   Ping   R-squared:                       0.844\n",
      "Model:                            OLS   Adj. R-squared:                  0.840\n",
      "Method:                 Least Squares   F-statistic:                     202.8\n",
      "Date:                Wed, 11 Dec 2024   Prob (F-statistic):          3.58e-187\n",
      "Time:                        23:00:26   Log-Likelihood:                -1598.4\n",
      "No. Observations:                 502   AIC:                             3225.\n",
      "Df Residuals:                     488   BIC:                             3284.\n",
      "Df Model:                          13                                         \n",
      "Covariance Type:            nonrobust                                         \n",
      "==================================================================================================\n",
      "                                     coef    std err          t      P>|t|      [0.025      0.975]\n",
      "--------------------------------------------------------------------------------------------------\n",
      "Intercept                         39.5955      1.063     37.249      0.000      37.507      41.684\n",
      "MacOS[T.True]                      9.1305      1.317      6.931      0.000       6.542      11.719\n",
      "Windows[T.True]                    4.0360      1.350      2.989      0.003       1.383       6.689\n",
      "iOS[T.True]                       -5.2709      0.802     -6.569      0.000      -6.847      -3.694\n",
      "ActiveUsers                       28.4784      1.420     20.051      0.000      25.688      31.269\n",
      "ActiveUsers:MacOS[T.True]          6.8517      1.507      4.546      0.000       3.891       9.813\n",
      "ActiveUsers:Windows[T.True]       -3.7296      1.488     -2.506      0.013      -6.653      -0.806\n",
      "ActiveUsers:iOS[T.True]           -5.1826      1.538     -3.371      0.001      -8.204      -2.162\n",
      "InteractingPct                    22.1702      3.688      6.011      0.000      14.924      29.417\n",
      "InteractingPct:MacOS[T.True]      -0.4987      2.086     -0.239      0.811      -4.597       3.600\n",
      "InteractingPct:Windows[T.True]     0.2835      2.311      0.123      0.902      -4.257       4.824\n",
      "I(ActiveUsers ** 2)              -10.0128      1.056     -9.481      0.000     -12.088      -7.938\n",
      "ActiveUsers:InteractingPct       -15.1482      1.752     -8.644      0.000     -18.591     -11.705\n",
      "I(InteractingPct ** 2)            -3.7412      3.485     -1.074      0.284     -10.589       3.106\n",
      "==============================================================================\n",
      "Omnibus:                      228.545   Durbin-Watson:                   1.933\n",
      "Prob(Omnibus):                  0.000   Jarque-Bera (JB):             3156.249\n",
      "Skew:                           1.604   Prob(JB):                         0.00\n",
      "Kurtosis:                      14.858   Cond. No.                         25.3\n",
      "==============================================================================\n",
      "\n",
      "Notes:\n",
      "[1] Standard Errors assume that the covariance matrix of the errors is correctly specified.\n"
     ]
    }
   ],
   "source": [
    "formula = (\n",
    "    'Ping ~ ActiveUsers + InteractingPct + MacOS + Windows + iOS +'\n",
    "    'I(ActiveUsers**2) + ActiveUsers:InteractingPct + ActiveUsers:MacOS + ActiveUsers:Windows + ActiveUsers:iOS +'\n",
    "    'I(InteractingPct**2) + InteractingPct:MacOS + InteractingPct:Windows'\n",
    ")\n",
    "\n",
    "result, model = evaluate_model(df, formula)\n",
    "print(result.summary())"
   ]
  },
  {
   "cell_type": "markdown",
   "metadata": {},
   "source": [
    "První člen byl odstraněn, nicméně je potřeba pracovat dále. Nyní je největším členem `InteractingPct:Windows[T.True]` s hodnotou `0.902`.\n",
    "Tak jej odstraníme a opět vyhodnotíme."
   ]
  },
  {
   "cell_type": "code",
   "execution_count": 166,
   "metadata": {},
   "outputs": [
    {
     "name": "stdout",
     "output_type": "stream",
     "text": [
      "                            OLS Regression Results                            \n",
      "==============================================================================\n",
      "Dep. Variable:                   Ping   R-squared:                       0.844\n",
      "Model:                            OLS   Adj. R-squared:                  0.840\n",
      "Method:                 Least Squares   F-statistic:                     220.1\n",
      "Date:                Wed, 11 Dec 2024   Prob (F-statistic):          2.38e-188\n",
      "Time:                        23:00:26   Log-Likelihood:                -1598.4\n",
      "No. Observations:                 502   AIC:                             3223.\n",
      "Df Residuals:                     489   BIC:                             3278.\n",
      "Df Model:                          12                                         \n",
      "Covariance Type:            nonrobust                                         \n",
      "================================================================================================\n",
      "                                   coef    std err          t      P>|t|      [0.025      0.975]\n",
      "------------------------------------------------------------------------------------------------\n",
      "Intercept                       39.5502      0.996     39.711      0.000      37.593      41.507\n",
      "MacOS[T.True]                    9.1752      1.265      7.255      0.000       6.690      11.660\n",
      "Windows[T.True]                  4.1710      0.782      5.332      0.000       2.634       5.708\n",
      "iOS[T.True]                     -5.2687      0.801     -6.574      0.000      -6.843      -3.694\n",
      "ActiveUsers                     28.4773      1.419     20.071      0.000      25.690      31.265\n",
      "ActiveUsers:MacOS[T.True]        6.8548      1.505      4.554      0.000       3.897       9.812\n",
      "ActiveUsers:Windows[T.True]     -3.7160      1.482     -2.507      0.013      -6.629      -0.803\n",
      "ActiveUsers:iOS[T.True]         -5.1807      1.536     -3.373      0.001      -8.198      -2.163\n",
      "InteractingPct                  22.2643      3.604      6.178      0.000      15.184      29.345\n",
      "InteractingPct:MacOS[T.True]    -0.5923      1.940     -0.305      0.760      -4.403       3.219\n",
      "I(ActiveUsers ** 2)            -10.0112      1.055     -9.490      0.000     -12.084      -7.938\n",
      "ActiveUsers:InteractingPct     -15.1522      1.750     -8.657      0.000     -18.591     -11.713\n",
      "I(InteractingPct ** 2)          -3.7414      3.482     -1.075      0.283     -10.582       3.099\n",
      "==============================================================================\n",
      "Omnibus:                      228.538   Durbin-Watson:                   1.932\n",
      "Prob(Omnibus):                  0.000   Jarque-Bera (JB):             3155.564\n",
      "Skew:                           1.604   Prob(JB):                         0.00\n",
      "Kurtosis:                      14.856   Cond. No.                         24.8\n",
      "==============================================================================\n",
      "\n",
      "Notes:\n",
      "[1] Standard Errors assume that the covariance matrix of the errors is correctly specified.\n"
     ]
    }
   ],
   "source": [
    "formula = (\n",
    "    'Ping ~ ActiveUsers + InteractingPct + MacOS + Windows + iOS +'\n",
    "    'I(ActiveUsers**2) + ActiveUsers:InteractingPct + ActiveUsers:MacOS + ActiveUsers:Windows + ActiveUsers:iOS +'\n",
    "    'I(InteractingPct**2) + InteractingPct:MacOS'\n",
    ")\n",
    "\n",
    "result, model = evaluate_model(df, formula)\n",
    "print(result.summary())"
   ]
  },
  {
   "cell_type": "markdown",
   "metadata": {},
   "source": [
    "Stále jsou zde členy, které je potřeba zmenšit. Nyní to bude `InteractingPct:MacOS[T.True]` s hodnotou `0.760`."
   ]
  },
  {
   "cell_type": "code",
   "execution_count": 167,
   "metadata": {},
   "outputs": [
    {
     "name": "stdout",
     "output_type": "stream",
     "text": [
      "                            OLS Regression Results                            \n",
      "==============================================================================\n",
      "Dep. Variable:                   Ping   R-squared:                       0.844\n",
      "Model:                            OLS   Adj. R-squared:                  0.840\n",
      "Method:                 Least Squares   F-statistic:                     240.6\n",
      "Date:                Wed, 11 Dec 2024   Prob (F-statistic):          1.57e-189\n",
      "Time:                        23:00:26   Log-Likelihood:                -1598.5\n",
      "No. Observations:                 502   AIC:                             3221.\n",
      "Df Residuals:                     490   BIC:                             3272.\n",
      "Df Model:                          11                                         \n",
      "Covariance Type:            nonrobust                                         \n",
      "===============================================================================================\n",
      "                                  coef    std err          t      P>|t|      [0.025      0.975]\n",
      "-----------------------------------------------------------------------------------------------\n",
      "Intercept                      39.6342      0.956     41.444      0.000      37.755      41.513\n",
      "MacOS[T.True]                   8.8714      0.780     11.372      0.000       7.339      10.404\n",
      "Windows[T.True]                 4.1703      0.781      5.337      0.000       2.635       5.706\n",
      "iOS[T.True]                    -5.2725      0.801     -6.586      0.000      -6.845      -3.699\n",
      "ActiveUsers                    28.4814      1.417     20.093      0.000      25.696      31.266\n",
      "ActiveUsers:MacOS[T.True]       6.8512      1.504      4.556      0.000       3.896       9.806\n",
      "ActiveUsers:Windows[T.True]    -3.7118      1.481     -2.506      0.013      -6.622      -0.802\n",
      "ActiveUsers:iOS[T.True]        -5.1860      1.534     -3.380      0.001      -8.201      -2.171\n",
      "InteractingPct                 22.1153      3.567      6.199      0.000      15.106      29.124\n",
      "I(ActiveUsers ** 2)           -10.0161      1.054     -9.504      0.000     -12.087      -7.945\n",
      "ActiveUsers:InteractingPct    -15.1459      1.749     -8.662      0.000     -18.581     -11.710\n",
      "I(InteractingPct ** 2)         -3.7789      3.476     -1.087      0.278     -10.609       3.051\n",
      "==============================================================================\n",
      "Omnibus:                      229.759   Durbin-Watson:                   1.933\n",
      "Prob(Omnibus):                  0.000   Jarque-Bera (JB):             3209.574\n",
      "Skew:                           1.611   Prob(JB):                         0.00\n",
      "Kurtosis:                      14.961   Cond. No.                         24.6\n",
      "==============================================================================\n",
      "\n",
      "Notes:\n",
      "[1] Standard Errors assume that the covariance matrix of the errors is correctly specified.\n"
     ]
    }
   ],
   "source": [
    "formula = (\n",
    "    'Ping ~ ActiveUsers + InteractingPct + MacOS + Windows + iOS +'\n",
    "    'I(ActiveUsers**2) + ActiveUsers:InteractingPct + ActiveUsers:MacOS + ActiveUsers:Windows + ActiveUsers:iOS +'\n",
    "    'I(InteractingPct**2)'\n",
    ")\n",
    "\n",
    "result, model = evaluate_model(df, formula)\n",
    "print(result.summary())"
   ]
  },
  {
   "cell_type": "markdown",
   "metadata": {},
   "source": [
    "Opět vyhodnoceno, ale stále zbývá člen `I(InteractingPct ** 2)` s hodnotou `0.278`, který je potřeba odstranit."
   ]
  },
  {
   "cell_type": "code",
   "execution_count": 168,
   "metadata": {},
   "outputs": [
    {
     "name": "stdout",
     "output_type": "stream",
     "text": [
      "                            OLS Regression Results                            \n",
      "==============================================================================\n",
      "Dep. Variable:                   Ping   R-squared:                       0.843\n",
      "Model:                            OLS   Adj. R-squared:                  0.840\n",
      "Method:                 Least Squares   F-statistic:                     264.4\n",
      "Date:                Wed, 11 Dec 2024   Prob (F-statistic):          1.69e-190\n",
      "Time:                        23:00:26   Log-Likelihood:                -1599.1\n",
      "No. Observations:                 502   AIC:                             3220.\n",
      "Df Residuals:                     491   BIC:                             3267.\n",
      "Df Model:                          10                                         \n",
      "Covariance Type:            nonrobust                                         \n",
      "===============================================================================================\n",
      "                                  coef    std err          t      P>|t|      [0.025      0.975]\n",
      "-----------------------------------------------------------------------------------------------\n",
      "Intercept                      40.2495      0.771     52.206      0.000      38.735      41.764\n",
      "MacOS[T.True]                   8.7999      0.777     11.318      0.000       7.272      10.328\n",
      "Windows[T.True]                 4.1936      0.781      5.367      0.000       2.658       5.729\n",
      "iOS[T.True]                    -5.3112      0.800     -6.640      0.000      -6.883      -3.740\n",
      "ActiveUsers                    28.4186      1.417     20.062      0.000      25.635      31.202\n",
      "ActiveUsers:MacOS[T.True]       6.9549      1.501      4.633      0.000       4.005       9.904\n",
      "ActiveUsers:Windows[T.True]    -3.6108      1.478     -2.442      0.015      -6.515      -0.706\n",
      "ActiveUsers:iOS[T.True]        -5.0588      1.530     -3.306      0.001      -8.065      -2.052\n",
      "InteractingPct                 18.3647      0.907     20.253      0.000      16.583      20.146\n",
      "I(ActiveUsers ** 2)            -9.9907      1.054     -9.480      0.000     -12.061      -7.920\n",
      "ActiveUsers:InteractingPct    -15.1484      1.749     -8.662      0.000     -18.585     -11.712\n",
      "==============================================================================\n",
      "Omnibus:                      230.750   Durbin-Watson:                   1.928\n",
      "Prob(Omnibus):                  0.000   Jarque-Bera (JB):             3263.977\n",
      "Skew:                           1.617   Prob(JB):                         0.00\n",
      "Kurtosis:                      15.066   Cond. No.                         11.9\n",
      "==============================================================================\n",
      "\n",
      "Notes:\n",
      "[1] Standard Errors assume that the covariance matrix of the errors is correctly specified.\n"
     ]
    }
   ],
   "source": [
    "formula = (\n",
    "    'Ping ~ ActiveUsers + InteractingPct + MacOS + Windows + iOS +'\n",
    "    'I(ActiveUsers**2) + ActiveUsers:InteractingPct + ActiveUsers:MacOS + ActiveUsers:Windows + ActiveUsers:iOS'\n",
    ")\n",
    "\n",
    "result, model = evaluate_model(df, formula)\n",
    "print(result.summary())"
   ]
  },
  {
   "cell_type": "markdown",
   "metadata": {},
   "source": [
    "Poslední úprava mě dostala ke zdárnému výsledku. Žádný z členů formule mi nepřesahuje hodnotu `0.05`, přičemž největší z nich je `ActiveUsers:Windows[T.True]` s hodnotou `0.015`, což je v pořádku.\n",
    "\n",
    "Finální formule tedy vypadá takto:\n",
    "\n",
    "$ \n",
    "    formula = \n",
    "    \\beta_{0} +\n",
    "    \\beta_{1} \\cdot ActiveUsers + \\beta_{2} \\cdot InteractingPct + \\beta_{3} \\cdot MacOS + \\beta_{4} \\cdot Windows + \\beta_{5} \\cdot iOS +\n",
    "    \\beta_{6} \\cdot ActiveUsers^2 + \\beta_{7} \\cdot ActiveUsers \\cdot InteractingPct + \\beta_{8} \\cdot ActiveUsers \\cdot MacOS + \\beta_{9} \\cdot ActiveUsers \\cdot Windows + \\beta_{10} \\cdot ActiveUsers \\cdot Windows\n",
    "$"
   ]
  },
  {
   "cell_type": "markdown",
   "metadata": {},
   "source": [
    "**Rovnice modelu**\n",
    "\n",
    "Rovnice modelu tedy bude vypadat následovně:\n",
    "\n",
    "$ \n",
    "    model = \n",
    "    40.2495 +\n",
    "    24.4186 \\cdot ActiveUsers + 18.3647 \\cdot InteractingPct + 8.7999 \\cdot MacOS + 4.1936 \\cdot Windows - 5.3112 \\cdot iOS -\n",
    "    9.9907 \\cdot ActiveUsers^2 - 15.1484 \\cdot ActiveUsers \\cdot InteractingPct + 6.9549 \\cdot ActiveUsers \\cdot MacOS - 3.6108 \\cdot ActiveUsers \\cdot Windows - 5.0588 \\cdot ActiveUsers \\cdot Windows\n",
    "$"
   ]
  },
  {
   "cell_type": "markdown",
   "metadata": {},
   "source": [
    "**Diskuze splnění předpokladů lineární regrese**\n",
    "\n",
    "TODO"
   ]
  },
  {
   "cell_type": "markdown",
   "metadata": {},
   "source": [
    "**Zbavení se odlehlých hodnot**"
   ]
  },
  {
   "cell_type": "code",
   "execution_count": null,
   "metadata": {},
   "outputs": [],
   "source": []
  }
 ],
 "metadata": {
  "kernelspec": {
   "display_name": "Python 3",
   "language": "python",
   "name": "python3"
  },
  "language_info": {
   "codemirror_mode": {
    "name": "ipython",
    "version": 3
   },
   "file_extension": ".py",
   "mimetype": "text/x-python",
   "name": "python",
   "nbconvert_exporter": "python",
   "pygments_lexer": "ipython3",
   "version": "3.12.8"
  }
 },
 "nbformat": 4,
 "nbformat_minor": 2
}
