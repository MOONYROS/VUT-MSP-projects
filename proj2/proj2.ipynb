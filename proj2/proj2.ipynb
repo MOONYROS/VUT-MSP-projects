{
 "cells": [
  {
   "cell_type": "markdown",
   "metadata": {},
   "source": [
    "# MSP projekt 2 - Ondřej Lukášek (xlukas15)"
   ]
  },
  {
   "cell_type": "markdown",
   "metadata": {},
   "source": [
    "Začnu tím, že si naimportuji potřebné knihovny, se kterými budu v projektu pracovat."
   ]
  },
  {
   "cell_type": "code",
   "execution_count": 42,
   "metadata": {},
   "outputs": [],
   "source": [
    "import matplotlib.pyplot as plt\n",
    "import numpy as np\n",
    "import pandas as pd\n",
    "import scipy.optimize as opt\n",
    "import scipy.stats as stats\n",
    "import scipy.special as special\n",
    "import statsmodels.api as smf"
   ]
  },
  {
   "cell_type": "markdown",
   "metadata": {},
   "source": [
    "## Úkol 1 - Věrohodnost"
   ]
  },
  {
   "cell_type": "markdown",
   "metadata": {},
   "source": [
    "Nejprve si načtu list (sheet), který obsahuje data, se kterými budu pracovat.\n",
    "\n",
    "Předpřipravím si parametry tak, abych je mohl rovnou použít dál."
   ]
  },
  {
   "cell_type": "code",
   "execution_count": 18,
   "metadata": {},
   "outputs": [],
   "source": [
    "file_path = 'Data_2024.xlsx'\n",
    "sheet_name = 'Data_věrohodnost'\n",
    "\n",
    "data = pd.read_excel(file_path, sheet_name=sheet_name)\n",
    "times = data['doba práce v oboru [roky]'].dropna().to_numpy()\n",
    "censored = data['censored'].to_numpy()\n",
    "\n",
    "initial_params = (1.5, 5.0)"
   ]
  },
  {
   "cell_type": "markdown",
   "metadata": {},
   "source": [
    "### Bod 1"
   ]
  },
  {
   "cell_type": "code",
   "execution_count": 19,
   "metadata": {},
   "outputs": [
    {
     "name": "stdout",
     "output_type": "stream",
     "text": [
      "Log-likelihood: -740.8976732574417\n",
      "Derivatives: [64.24195393 77.00791218]\n"
     ]
    }
   ],
   "source": [
    "def weibull_log_likelihood(params, times, censored):\n",
    "    k, lam = params\n",
    "    \n",
    "    # logaritmizace pro necenzurovana data\n",
    "    log_f = np.log(k) - k * np.log(lam) + (k - 1) * np.log(times) - (times / lam)**k\n",
    "    # logaritmizace pro cenzurovana data\n",
    "    log_sf = - (times / lam)**k\n",
    "    \n",
    "    # spojeni logaritmu pro necenzurovana a cenzurovana data\n",
    "    likelihood = (1 - censored) * log_f + censored * log_sf\n",
    "\n",
    "    return likelihood.sum()\n",
    "\n",
    "\n",
    "# MOZNA SMAZAT???\n",
    "def weibull_log_likelihood_derivatives(params, times, censored):\n",
    "    k, lam = params\n",
    "\n",
    "    # predvypocitani konstant, co se budou v derivacich opakovat\n",
    "    t_lam_k = (times / lam)**k\n",
    "    log_t_lam = np.log(times / lam)\n",
    "    \n",
    "    # parcialni derivace logaritmu podle parametru k\n",
    "    dL_dk = np.sum((1 - censored) * (1 / k + log_t_lam - t_lam_k * log_t_lam) + censored * (-t_lam_k * log_t_lam))\n",
    "    # parcialni derivace logaritmu podle parametru lambda\n",
    "    dL_dlam = np.sum((1 - censored) * (-k / lam + k * t_lam_k / lam) + censored * (k * t_lam_k / lam))\n",
    "    \n",
    "    return np.array([dL_dk, dL_dlam])\n",
    "\n",
    "\n",
    "log_likelihood = weibull_log_likelihood(initial_params, times, censored)\n",
    "derivatives = weibull_log_likelihood_derivatives(initial_params, times, censored)\n",
    "\n",
    "print(f'Log-likelihood: {log_likelihood}')\n",
    "print(f'Derivatives: {derivatives}')"
   ]
  },
  {
   "cell_type": "markdown",
   "metadata": {},
   "source": [
    "### Bod 2"
   ]
  },
  {
   "cell_type": "code",
   "execution_count": 20,
   "metadata": {},
   "outputs": [
    {
     "name": "stdout",
     "output_type": "stream",
     "text": [
      "Maximal likelihood estimation:\n",
      "Shape (k): 6.172808847674017\n",
      "Scale (lambda): 7.4294603426242265\n"
     ]
    }
   ],
   "source": [
    "def neg_weibull_log_likelihood(params, times, censored):\n",
    "    return -weibull_log_likelihood(params, times, censored)\n",
    "\n",
    "result = opt.minimize(\n",
    "    fun=neg_weibull_log_likelihood,\n",
    "    x0=initial_params,\n",
    "    args=(times, censored),\n",
    "    method='L-BFGS-B',\n",
    "    bounds=[(0.1, None), (0.1, None)]\n",
    ")\n",
    "\n",
    "optimal_shape, optimal_scale = result.x\n",
    "\n",
    "print('Maximal likelihood estimation:')\n",
    "print(f'Shape (k): {optimal_shape}')\n",
    "print(f'Scale (lambda): {optimal_scale}')"
   ]
  },
  {
   "cell_type": "markdown",
   "metadata": {},
   "source": [
    "### Bod 3\n",
    "\n",
    "Pomocí věrohodnostního poměru otestujte hypotézu, že exponenciální rozdělení je postačujícím modelem zapsaných dat (Parametr tvaru = 1)."
   ]
  },
  {
   "cell_type": "markdown",
   "metadata": {},
   "source": [
    "By default je distribuční funkce (pro $ x \\geq 0 $) exponenciálního rozdělení:\n",
    "\n",
    "$ f(x; \\lambda) = \\lambda e^{-\\lambda x} $\n",
    "\n",
    "Logaritmus potom bude:\n",
    "\n",
    "$ \\ell(x; \\lambda) = \\ln \\lambda - \\lambda x $\n",
    "\n",
    "Log-likelihood potom je:\n",
    "\n",
    "$ \\ell(\\lambda) = \\sum_{i=1}^n \\left[ \\ln \\lambda - \\lambda x_i \\right]  $"
   ]
  },
  {
   "cell_type": "code",
   "execution_count": 21,
   "metadata": {},
   "outputs": [
    {
     "name": "stdout",
     "output_type": "stream",
     "text": [
      "Likelihood ratio: 592.3898153427439\n",
      "Critical value (alpha = 0.05): 3.841458820694124\n",
      "Zamítáme nulovou hypotézu. Exponenciální rozdělení není postačující.\n"
     ]
    }
   ],
   "source": [
    "def exponential_log_likelihood(lam, times, censored):\n",
    "    log_f = np.log(lam) - lam * times\n",
    "    log_sf = -lam * times\n",
    "\n",
    "    likelihood = (1 - censored) * log_f + censored * log_sf\n",
    "    return np.sum(likelihood)\n",
    "\n",
    "\n",
    "result_exp = opt.minimize(\n",
    "    fun=lambda lam: -exponential_log_likelihood(lam[0], times, censored),\n",
    "    x0=[1.0],\n",
    "    bounds=[(0.1, None)],\n",
    "    method='L-BFGS-B'\n",
    ")\n",
    "\n",
    "lambda_exp = result_exp.x[0]\n",
    "log_likelihood_exp = -result_exp.fun\n",
    "\n",
    "k_weibull, lambda_weibull = result.x\n",
    "result_weibull = -result.fun\n",
    "\n",
    "# VYPOCET VEROHODNOSTNIHO POMERU\n",
    "LR = 2 * (result_weibull - log_likelihood_exp)\n",
    "\n",
    "alpha = 0.05\n",
    "critical_value = stats.chi2.ppf(1 - alpha, df=1)\n",
    "\n",
    "print(f'Likelihood ratio: {LR}')\n",
    "print(f'Critical value (alpha = {alpha}): {critical_value}')\n",
    "\n",
    "if LR > critical_value:\n",
    "    print('Zamítáme nulovou hypotézu. Exponenciální rozdělení není postačující.')\n",
    "else:\n",
    "    print('Nulovou hypotézu nezamítáme. Exponenciální rozdělení je postačující.')"
   ]
  },
  {
   "cell_type": "markdown",
   "metadata": {},
   "source": [
    "### Bod 4\n",
    "\n",
    "Podle výsledku z předchozího bodu použijte výsledné rozdělení pravděpodobnosti (s maximálně věrohodnými odhady jako parametry) a nalezněte bodové odhady pro střední dobu zaměstnání v oboru a 10% percentil zaměstnání v oboru (za jakou dobu odejde do jiného oboru 10% absolventů)."
   ]
  },
  {
   "cell_type": "markdown",
   "metadata": {},
   "source": [
    "Jelikož v předchozím bodu na základě testu vyšlo, že exponenciální rozdělení není postačující, budu dále pokračovat s Weibullovým rozdělením.\n",
    "\n",
    "U Weibullova rozdělení se střední hodnota vypočítá následovně (z Wikipedie):\n",
    "\n",
    "$ Mean = \\lambda \\Gamma (1 + \\frac{1}{k}) $\n",
    "\n",
    "A kvantily se počítají pomocí vzorce:\n",
    "\n",
    "$ Q(p) = \\lambda (- \\ln (1 - p))^{\\frac{1}{k}} \\implies Q(0.1) = \\lambda (- \\ln (0.9))^{\\frac{1}{k}} $"
   ]
  },
  {
   "cell_type": "code",
   "execution_count": 22,
   "metadata": {},
   "outputs": [
    {
     "name": "stdout",
     "output_type": "stream",
     "text": [
      "=== Weibull distribution ===\n",
      "Shape (k): 6.172808847674017\n",
      "Scale (lambda): 7.4294603426242265\n",
      "\n",
      "=== Mean, Quantile ===\n",
      "Mean: 6.903242509050911\n",
      "10% quantile: 5.159769490910647\n"
     ]
    }
   ],
   "source": [
    "def weibull_mean(k, lam):\n",
    "    return lam * special.gamma(1 + 1 / k)\n",
    "\n",
    "\n",
    "def weibull_quantile(p, k, lam):\n",
    "    return lam * (- np.log(1 - p))**(1 / k)\n",
    "\n",
    "\n",
    "mean = weibull_mean(k_weibull, lambda_weibull)\n",
    "quantile = weibull_quantile(0.1, k_weibull, lambda_weibull)\n",
    "\n",
    "print('=== Weibull distribution ===')\n",
    "print(f'Shape (k): {k_weibull}')\n",
    "print(f'Scale (lambda): {lambda_weibull}\\n')\n",
    "\n",
    "print('=== Mean, Quantile ===')\n",
    "print(f'Mean: {mean}')\n",
    "print(f'10% quantile: {quantile}')"
   ]
  },
  {
   "cell_type": "markdown",
   "metadata": {},
   "source": [
    "### Bod 5 (dobrovolný)\n",
    "\n",
    "Zkuste nějak slovně charakterizovat/popsat fungování doby zaměstnání v oboru jako náhodné veličiny, dle vašich výsledků a parametrů."
   ]
  },
  {
   "cell_type": "markdown",
   "metadata": {},
   "source": [
    "**TODO**"
   ]
  },
  {
   "cell_type": "markdown",
   "metadata": {},
   "source": [
    "## Úkol 2 - Regrese"
   ]
  },
  {
   "cell_type": "markdown",
   "metadata": {},
   "source": [
    "Opět začnu tím, že si nejprve načtu data z Excelu. Pro jistotu si přetypuji hodnoty, abych se vyhnul problémům do budoucna (kdy náhodou něco nefungovalo). "
   ]
  },
  {
   "cell_type": "code",
   "execution_count": 54,
   "metadata": {},
   "outputs": [
    {
     "data": {
      "text/html": [
       "<div>\n",
       "<style scoped>\n",
       "    .dataframe tbody tr th:only-of-type {\n",
       "        vertical-align: middle;\n",
       "    }\n",
       "\n",
       "    .dataframe tbody tr th {\n",
       "        vertical-align: top;\n",
       "    }\n",
       "\n",
       "    .dataframe thead th {\n",
       "        text-align: right;\n",
       "    }\n",
       "</style>\n",
       "<table border=\"1\" class=\"dataframe\">\n",
       "  <thead>\n",
       "    <tr style=\"text-align: right;\">\n",
       "      <th></th>\n",
       "      <th>OSType</th>\n",
       "      <th>ActiveUsers</th>\n",
       "      <th>InteractingPct</th>\n",
       "      <th>ScrollingPct</th>\n",
       "      <th>Ping [ms]</th>\n",
       "    </tr>\n",
       "  </thead>\n",
       "  <tbody>\n",
       "    <tr>\n",
       "      <th>0</th>\n",
       "      <td>iOS</td>\n",
       "      <td>4113</td>\n",
       "      <td>0.8283</td>\n",
       "      <td>0.1717</td>\n",
       "      <td>47</td>\n",
       "    </tr>\n",
       "    <tr>\n",
       "      <th>1</th>\n",
       "      <td>iOS</td>\n",
       "      <td>7549</td>\n",
       "      <td>0.3461</td>\n",
       "      <td>0.6539</td>\n",
       "      <td>46</td>\n",
       "    </tr>\n",
       "    <tr>\n",
       "      <th>2</th>\n",
       "      <td>Windows</td>\n",
       "      <td>8855</td>\n",
       "      <td>0.2178</td>\n",
       "      <td>0.7822</td>\n",
       "      <td>55</td>\n",
       "    </tr>\n",
       "    <tr>\n",
       "      <th>3</th>\n",
       "      <td>Android</td>\n",
       "      <td>8870</td>\n",
       "      <td>0.0794</td>\n",
       "      <td>0.9206</td>\n",
       "      <td>56</td>\n",
       "    </tr>\n",
       "    <tr>\n",
       "      <th>4</th>\n",
       "      <td>MacOS</td>\n",
       "      <td>9559</td>\n",
       "      <td>0.7282</td>\n",
       "      <td>0.2718</td>\n",
       "      <td>76</td>\n",
       "    </tr>\n",
       "    <tr>\n",
       "      <th>...</th>\n",
       "      <td>...</td>\n",
       "      <td>...</td>\n",
       "      <td>...</td>\n",
       "      <td>...</td>\n",
       "      <td>...</td>\n",
       "    </tr>\n",
       "    <tr>\n",
       "      <th>497</th>\n",
       "      <td>iOS</td>\n",
       "      <td>5315</td>\n",
       "      <td>0.1974</td>\n",
       "      <td>0.8026</td>\n",
       "      <td>28</td>\n",
       "    </tr>\n",
       "    <tr>\n",
       "      <th>498</th>\n",
       "      <td>MacOS</td>\n",
       "      <td>1392</td>\n",
       "      <td>0.2373</td>\n",
       "      <td>0.7627</td>\n",
       "      <td>24</td>\n",
       "    </tr>\n",
       "    <tr>\n",
       "      <th>499</th>\n",
       "      <td>iOS</td>\n",
       "      <td>6014</td>\n",
       "      <td>0.8112</td>\n",
       "      <td>0.1888</td>\n",
       "      <td>54</td>\n",
       "    </tr>\n",
       "    <tr>\n",
       "      <th>500</th>\n",
       "      <td>Android</td>\n",
       "      <td>5118</td>\n",
       "      <td>0.2345</td>\n",
       "      <td>0.7655</td>\n",
       "      <td>39</td>\n",
       "    </tr>\n",
       "    <tr>\n",
       "      <th>501</th>\n",
       "      <td>MacOS</td>\n",
       "      <td>2660</td>\n",
       "      <td>0.9390</td>\n",
       "      <td>0.0610</td>\n",
       "      <td>55</td>\n",
       "    </tr>\n",
       "  </tbody>\n",
       "</table>\n",
       "<p>502 rows × 5 columns</p>\n",
       "</div>"
      ],
      "text/plain": [
       "      OSType  ActiveUsers  InteractingPct  ScrollingPct  Ping [ms]\n",
       "0        iOS         4113          0.8283        0.1717         47\n",
       "1        iOS         7549          0.3461        0.6539         46\n",
       "2    Windows         8855          0.2178        0.7822         55\n",
       "3    Android         8870          0.0794        0.9206         56\n",
       "4      MacOS         9559          0.7282        0.2718         76\n",
       "..       ...          ...             ...           ...        ...\n",
       "497      iOS         5315          0.1974        0.8026         28\n",
       "498    MacOS         1392          0.2373        0.7627         24\n",
       "499      iOS         6014          0.8112        0.1888         54\n",
       "500  Android         5118          0.2345        0.7655         39\n",
       "501    MacOS         2660          0.9390        0.0610         55\n",
       "\n",
       "[502 rows x 5 columns]"
      ]
     },
     "execution_count": 54,
     "metadata": {},
     "output_type": "execute_result"
    }
   ],
   "source": [
    "file_path = 'Data_2024.xlsx'\n",
    "sheet_name = 'Data_regrese'\n",
    "\n",
    "df = pd.read_excel(file_path, sheet_name=sheet_name)\n",
    "\n",
    "df['OSType'] = df['OSType'].astype('category')\n",
    "\n",
    "columns_to_numeric = ['ActiveUsers', 'InteractingPct', 'ScrollingPct', 'Ping [ms]']\n",
    "df[columns_to_numeric] = df[columns_to_numeric].apply(pd.to_numeric, errors='coerce')\n",
    "\n",
    "df"
   ]
  },
  {
   "cell_type": "markdown",
   "metadata": {},
   "source": [
    "### Bod 1\n",
    "\n",
    "Pomocí zpětné eliminace určete vhodný regresní model. Za výchozí \"plný\" model považujte plný kvadratický model (všechny interakce druhého řádu a všechny druhé mocniny, které dávají smysl).\n",
    "\n",
    "- Zapište rovnici Vašeho finálního modelu.\n",
    "- Diskutujte splnění přepokladů lineární regrese a základní regresní diagnostiky.\n",
    "- Pokud (až během regresního modelování) identifikujete některé \"nejodlehlejší\" hodnoty, po alespoň krátkém zdůvodnění, vyřadit."
   ]
  },
  {
   "cell_type": "markdown",
   "metadata": {},
   "source": [
    "Začnu tím, že si data vizualizuji pro lepší představu toho, s čím budu vlastně pracovat.\n",
    "\n",
    "Zřejmě budu pracovat se závislostí odezvy na počtu aktivní uživatelů na mé \"socce\".\n",
    "\n",
    "Na grafu je možné si pouhým okem všimnout rostoucí tendence - tedy čím víc je uživatelů, tím větší je ping.\n"
   ]
  },
  {
   "cell_type": "code",
   "execution_count": 44,
   "metadata": {},
   "outputs": [
    {
     "data": {
      "image/png": "[encoded data removed]",
      "text/plain": [
       "<Figure size 640x480 with 1 Axes>"
      ]
     },
     "metadata": {},
     "output_type": "display_data"
    }
   ],
   "source": [
    "# ActiveUsers vs Ping [ms]\n",
    "plt.scatter(df['ActiveUsers'], df['Ping [ms]'], alpha=0.5, color='blue')\n",
    "plt.title('ActiveUsers vs Ping [ms]')\n",
    "plt.xlabel('ActiveUsers')\n",
    "plt.ylabel('Ping [ms]')\n",
    "\n",
    "\n",
    "plt.tight_layout()\n",
    "plt.show()"
   ]
  }
 ],
 "metadata": {
  "kernelspec": {
   "display_name": "Python 3",
   "language": "python",
   "name": "python3"
  },
  "language_info": {
   "codemirror_mode": {
    "name": "ipython",
    "version": 3
   },
   "file_extension": ".py",
   "mimetype": "text/x-python",
   "name": "python",
   "nbconvert_exporter": "python",
   "pygments_lexer": "ipython3",
   "version": "3.12.8"
  }
 },
 "nbformat": 4,
 "nbformat_minor": 2
}
