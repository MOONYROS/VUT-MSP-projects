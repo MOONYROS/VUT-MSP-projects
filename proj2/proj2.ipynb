{
 "cells": [
  {
   "cell_type": "markdown",
   "metadata": {},
   "source": [
    "# MSP projekt 2 - Ondřej Lukášek (xlukas15)"
   ]
  },
  {
   "cell_type": "markdown",
   "metadata": {},
   "source": [
    "## Úkol 1 - Věrohodnost"
   ]
  },
  {
   "cell_type": "markdown",
   "metadata": {},
   "source": [
    "Začnu tím, že si naimportuji potřebné knihovny, se kterými budu v projektu pracovat."
   ]
  },
  {
   "cell_type": "code",
   "execution_count": 2,
   "metadata": {},
   "outputs": [],
   "source": [
    "import numpy as np\n",
    "import pandas as pd\n",
    "import scipy.optimize as opt"
   ]
  },
  {
   "cell_type": "markdown",
   "metadata": {},
   "source": [
    "Následně si načtu sheet, který obsahuje data, se kterými budu pracovat.\n",
    "\n",
    "Předpřipravím si parametry tak, abych je mohl rovnou použít dál."
   ]
  },
  {
   "cell_type": "code",
   "execution_count": 6,
   "metadata": {},
   "outputs": [],
   "source": [
    "file_path = 'Data_2024.xlsx'\n",
    "sheet_name = 'Data_věrohodnost'\n",
    "\n",
    "data = pd.read_excel(file_path, sheet_name=sheet_name)\n",
    "times = data['doba práce v oboru [roky]'].dropna().to_numpy()\n",
    "censored = data['censored'].to_numpy()\n",
    "\n",
    "initial_params = (1.5, 5.0)"
   ]
  },
  {
   "cell_type": "markdown",
   "metadata": {},
   "source": [
    "### Bod 1"
   ]
  },
  {
   "cell_type": "code",
   "execution_count": null,
   "metadata": {},
   "outputs": [
    {
     "name": "stdout",
     "output_type": "stream",
     "text": [
      "Log-likelihood: -740.8976732574417\n",
      "Derivatives: [64.24195393 77.00791218]\n"
     ]
    }
   ],
   "source": [
    "def weibull_log_likelihood(params, times, censored):\n",
    "    k, lam = params\n",
    "    \n",
    "    # logaritmizace pro necenzurovana data\n",
    "    log_f = np.log(k) - k * np.log(lam) + (k - 1) * np.log(times) - (times / lam)**k\n",
    "    # logaritmizace pro cenzurovana data\n",
    "    log_sf = - (times / lam)**k\n",
    "    \n",
    "    # spojeni logaritmu pro necenzurovana a cenzurovana data\n",
    "    likelihood = (1 - censored) * log_f + censored * log_sf\n",
    "\n",
    "    return likelihood.sum()\n",
    "\n",
    "\n",
    "# MOZNA SMAZAT???\n",
    "def weibull_log_likelihood_derivatives(params, times, censored):\n",
    "    k, lam = params\n",
    "\n",
    "    # predvypocitani konstant, co se budou v derivacich opakovat\n",
    "    t_lam_k = (times / lam)**k\n",
    "    log_t_lam = np.log(times / lam)\n",
    "    \n",
    "    # parcialni derivace logaritmu podle parametru k\n",
    "    dL_dk = np.sum((1 - censored) * (1 / k + log_t_lam - t_lam_k * log_t_lam) + censored * (-t_lam_k * log_t_lam))\n",
    "    # parcialni derivace logaritmu podle parametru lambda\n",
    "    dL_dlam = np.sum((1 - censored) * (-k / lam + k * t_lam_k / lam) + censored * (k * t_lam_k / lam))\n",
    "    \n",
    "    return np.array([dL_dk, dL_dlam])\n",
    "\n",
    "\n",
    "log_likelihood = weibull_log_likelihood(initial_params, times, censored)\n",
    "derivatives = weibull_log_likelihood_derivatives(initial_params, times, censored)\n",
    "\n",
    "print(f'Log-likelihood: {log_likelihood}')\n",
    "print(f'Derivatives: {derivatives}')"
   ]
  },
  {
   "cell_type": "markdown",
   "metadata": {},
   "source": [
    "### Bod 2"
   ]
  },
  {
   "cell_type": "code",
   "execution_count": null,
   "metadata": {},
   "outputs": [
    {
     "name": "stdout",
     "output_type": "stream",
     "text": [
      "Maximal likelihood estimation:\n",
      "Shape (k): 6.172808847674017\n",
      "Scale (lambda): 7.4294603426242265\n"
     ]
    }
   ],
   "source": [
    "def neg_weibull_log_likelihood(params, times, censored):\n",
    "    return -weibull_log_likelihood(params, times, censored)\n",
    "\n",
    "result = opt.minimize(\n",
    "    fun=neg_weibull_log_likelihood,\n",
    "    x0=initial_params,\n",
    "    args=(times, censored),\n",
    "    method='L-BFGS-B',\n",
    "    bounds=[(0.1, None), (0.1, None)]\n",
    ")\n",
    "\n",
    "optimal_shape, optimal_scale = result.x\n",
    "\n",
    "print('Maximal likelihood estimation:')\n",
    "print(f'Shape (k): {optimal_shape}')\n",
    "print(f'Scale (lambda): {optimal_scale}')"
   ]
  },
  {
   "cell_type": "markdown",
   "metadata": {},
   "source": [
    "## Úkol 2 - Regrese"
   ]
  },
  {
   "cell_type": "code",
   "execution_count": 8,
   "metadata": {},
   "outputs": [],
   "source": [
    "# TODO"
   ]
  }
 ],
 "metadata": {
  "kernelspec": {
   "display_name": "Python 3",
   "language": "python",
   "name": "python3"
  },
  "language_info": {
   "codemirror_mode": {
    "name": "ipython",
    "version": 3
   },
   "file_extension": ".py",
   "mimetype": "text/x-python",
   "name": "python",
   "nbconvert_exporter": "python",
   "pygments_lexer": "ipython3",
   "version": "3.12.8"
  }
 },
 "nbformat": 4,
 "nbformat_minor": 2
}
